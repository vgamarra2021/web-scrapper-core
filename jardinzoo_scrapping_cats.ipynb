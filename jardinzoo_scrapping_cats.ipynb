{
 "cells": [
  {
   "cell_type": "code",
   "execution_count": null,
   "id": "7a796dd2-2e21-435d-bf68-3490292927b3",
   "metadata": {},
   "outputs": [],
   "source": [
    "%pip install -r requirements.txt"
   ]
  },
  {
   "cell_type": "code",
   "execution_count": null,
   "id": "6881d8a1-415f-455e-886e-40d7b43e884e",
   "metadata": {},
   "outputs": [],
   "source": [
    "from seleniumwire import webdriver\n",
    "from selenium.webdriver.common.by import By\n",
    "from selenium.webdriver.chrome.service import Service\n",
    "from selenium.webdriver.chrome.options import Options\n",
    "import json\n",
    "from selenium.webdriver.common.keys import Keys\n",
    "from selenium.webdriver.common.action_chains import ActionChains\n",
    "from selenium.webdriver.support.ui import WebDriverWait\n",
    "from selenium.webdriver.support import expected_conditions as EC\n",
    "from seleniumwire.utils import decode"
   ]
  },
  {
   "cell_type": "code",
   "execution_count": null,
   "id": "74fdb554-363b-465f-b5db-34d6c560fcc7",
   "metadata": {},
   "outputs": [],
   "source": [
    "#Variables\n",
    "website = 'https://jardinzoo.cl/gatos-166'\n",
    "fileName = 'catsProducts'\n",
    "folder = 'jardinzoo'"
   ]
  },
  {
   "cell_type": "code",
   "execution_count": null,
   "id": "ce7a87ac-805f-450d-8cf9-bf9348115615",
   "metadata": {},
   "outputs": [],
   "source": [
    "chrome_options = Options()\n",
    "chrome_options.set_capability('goog:loggingPrefs', {'performance': 'ALL'})\n",
    "chrome_options.add_argument('--auto-open-devtools-for-tabs')\n",
    "chrome_options.add_argument('--no-sandbox')\n",
    "chrome_options.add_argument('--disable-dev-shm-usage')\n",
    "chrome_options.add_argument('--disable_encoding')\n",
    "\n",
    "driver = webdriver.Chrome(options=chrome_options)\n",
    "\n",
    "driver.execute_cdp_cmd(\"Network.enable\", {})\n",
    "\n",
    "driver.get(website)\n",
    "\n",
    "wait = WebDriverWait(driver, 30)"
   ]
  },
  {
   "cell_type": "code",
   "execution_count": null,
   "id": "901bbde2-efe7-44bb-bc83-172e18df9b15",
   "metadata": {},
   "outputs": [],
   "source": [
    "#Products\n",
    "products = []"
   ]
  },
  {
   "cell_type": "code",
   "execution_count": null,
   "id": "0bd0edc6-a76d-4f45-abd9-a76e08c7eb82",
   "metadata": {},
   "outputs": [],
   "source": [
    "from selenium.common.exceptions import NoSuchElementException, StaleElementReferenceException\n",
    "import time\n",
    "import random\n",
    "\n",
    "def scan_products():\n",
    "    wait.until(EC.presence_of_all_elements_located((By.CSS_SELECTOR, 'article')))\n",
    "    items = driver.find_elements(By.CSS_SELECTOR, 'article')\n",
    "    \n",
    "    for item in items:\n",
    "        image_url = item.find_element(By.CSS_SELECTOR, 'img').get_attribute('src')\n",
    "        product_url = item.find_element(By.CSS_SELECTOR, 'a').get_attribute('href')\n",
    "        title = item.find_element(By.CSS_SELECTOR, '.product-title').text\n",
    "        price = item.find_element(By.CSS_SELECTOR, '.price').text\n",
    "        products.append({\n",
    "            'image_url': image_url,\n",
    "            'product_url': product_url,\n",
    "            'title': title,\n",
    "            'price': price,\n",
    "        })\n",
    "    \n",
    "def go_to_next_page():\n",
    "    try:\n",
    "        next_button = wait.until(EC.presence_of_element_located((By.CSS_SELECTOR, '.next')))\n",
    "        next_button.click()\n",
    "        wait.until(EC.staleness_of(next_button))\n",
    "        return True\n",
    "    except NoSuchElementException:\n",
    "        print(\"Botón 'next' no encontrado, final de la paginación.\")\n",
    "        return False\n",
    "    except StaleElementReferenceException:\n",
    "        print(\"El botón 'next' ya no es válido en el DOM.\")\n",
    "        return False\n",
    "        \n",
    "flag = True\n",
    "while(flag):\n",
    "    try:\n",
    "        scan_products()\n",
    "        time.sleep(random.uniform(3, 8))\n",
    "        flag = go_to_next_page()\n",
    "    except Exception as e:\n",
    "        print(f\"Error inesperado: {e}\")\n",
    "        flag = False\n",
    "                "
   ]
  },
  {
   "cell_type": "code",
   "execution_count": null,
   "id": "b19463d8-1cb5-4502-ae82-46259c518b5a",
   "metadata": {},
   "outputs": [],
   "source": [
    "print(products)\n",
    "print(len(products))"
   ]
  },
  {
   "cell_type": "code",
   "execution_count": null,
   "id": "6da18b72-16c2-4849-9f2e-07c4f8eb6b15",
   "metadata": {},
   "outputs": [],
   "source": [
    "from selenium.common.exceptions import NoSuchElementException\n",
    "def go_to_product(product):\n",
    "    wait = WebDriverWait(driver, 120)\n",
    "    driver.get(product['product_url'])\n",
    "    \n",
    "    try:\n",
    "        product_tab_reference = wait.until(\n",
    "            EC.presence_of_element_located(\n",
    "                (By.XPATH, \"//a[contains(text(), 'Detalles del producto')]\")\n",
    "            )\n",
    "        )\n",
    "        product_tab_reference.click()\n",
    "    except NoSuchElementException:\n",
    "        print(f\"No se encontró ean oculto en {product['title']}\")\n",
    "        \n",
    "    try:\n",
    "        wait.until(EC.visibility_of_element_located((By.CSS_SELECTOR, '.product-reference')))\n",
    "        product_reference = wait.until(EC.presence_of_element_located((By.CSS_SELECTOR, '.product-reference')))\n",
    "        product['ean'] = product_reference.find_element(By.CSS_SELECTOR, 'span').text\n",
    "    except NoSuchElementException:\n",
    "        print(f\"La referencia no se encontró en el producto: {product['title']}\")\n",
    "        product['ean'] = ''\n",
    "\n",
    "    try:\n",
    "        product['brand'] = driver.find_element(By.CSS_SELECTOR, '.product-manufacturer').find_element(By.CSS_SELECTOR, 'a').text\n",
    "    except NoSuchElementException:\n",
    "        print(f\"La marca no se encontró en el producto {product['title']}\")\n",
    "        product['brand'] = ''\n",
    "    \n",
    "    product['price'] = driver.find_element(By.CSS_SELECTOR, '.current-price').find_element(By.CSS_SELECTOR, 'span').get_attribute('content')\n",
    "    product['currency'] = 'CLP'\n",
    "\n",
    "for product in products:\n",
    "    try:\n",
    "        go_to_product(product)\n",
    "    except Exception as e:\n",
    "        print(f\"Error inesperado producto {product['title']}: {e}\")\n",
    "    "
   ]
  },
  {
   "cell_type": "code",
   "execution_count": null,
   "id": "2724ba7c-87d2-46b0-be03-97c1fab4f25c",
   "metadata": {},
   "outputs": [],
   "source": [
    "print(products)"
   ]
  },
  {
   "cell_type": "code",
   "execution_count": null,
   "id": "465784cf-6fa5-48bb-af5d-f3981a7dff77",
   "metadata": {},
   "outputs": [],
   "source": [
    "with open(f\"{folder}/{fileName}.json\", 'w', encoding='utf-8') as json_file:\n",
    "    json.dump(products, json_file, ensure_ascii=False, indent=4)\n",
    "\n",
    "print(\"Archivo JSON generado correctamente.\")"
   ]
  },
  {
   "cell_type": "code",
   "execution_count": null,
   "id": "96d36483-053c-47a6-bf98-923fccaea2ea",
   "metadata": {},
   "outputs": [],
   "source": [
    "driver.quit()"
   ]
  }
 ],
 "metadata": {
  "kernelspec": {
   "display_name": "Python 3 (ipykernel)",
   "language": "python",
   "name": "python3"
  },
  "language_info": {
   "codemirror_mode": {
    "name": "ipython",
    "version": 3
   },
   "file_extension": ".py",
   "mimetype": "text/x-python",
   "name": "python",
   "nbconvert_exporter": "python",
   "pygments_lexer": "ipython3",
   "version": "3.12.3"
  }
 },
 "nbformat": 4,
 "nbformat_minor": 5
}
