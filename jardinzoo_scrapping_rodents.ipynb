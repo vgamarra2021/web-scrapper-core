{
 "cells": [
  {
   "cell_type": "code",
   "execution_count": 1,
   "id": "7a796dd2-2e21-435d-bf68-3490292927b3",
   "metadata": {},
   "outputs": [
    {
     "name": "stdout",
     "output_type": "stream",
     "text": [
      "Requirement already satisfied: selenium-wire in c:\\users\\user\\desktop\\3dsoft2024\\clientes\\scrapping petshot\\scrapping\\scrapping_v1\\lib\\site-packages (from -r requirements.txt (line 1)) (5.1.0)\n",
      "Requirement already satisfied: blinker==1.7.0 in c:\\users\\user\\desktop\\3dsoft2024\\clientes\\scrapping petshot\\scrapping\\scrapping_v1\\lib\\site-packages (from -r requirements.txt (line 2)) (1.7.0)\n",
      "Requirement already satisfied: selenium in c:\\users\\user\\desktop\\3dsoft2024\\clientes\\scrapping petshot\\scrapping\\scrapping_v1\\lib\\site-packages (from -r requirements.txt (line 3)) (4.25.0)\n",
      "Requirement already satisfied: brotli>=1.0.9 in c:\\users\\user\\desktop\\3dsoft2024\\clientes\\scrapping petshot\\scrapping\\scrapping_v1\\lib\\site-packages (from selenium-wire->-r requirements.txt (line 1)) (1.1.0)\n",
      "Requirement already satisfied: certifi>=2019.9.11 in c:\\users\\user\\desktop\\3dsoft2024\\clientes\\scrapping petshot\\scrapping\\scrapping_v1\\lib\\site-packages (from selenium-wire->-r requirements.txt (line 1)) (2024.8.30)\n",
      "Requirement already satisfied: kaitaistruct>=0.7 in c:\\users\\user\\desktop\\3dsoft2024\\clientes\\scrapping petshot\\scrapping\\scrapping_v1\\lib\\site-packages (from selenium-wire->-r requirements.txt (line 1)) (0.10)\n",
      "Requirement already satisfied: pyasn1>=0.3.1 in c:\\users\\user\\desktop\\3dsoft2024\\clientes\\scrapping petshot\\scrapping\\scrapping_v1\\lib\\site-packages (from selenium-wire->-r requirements.txt (line 1)) (0.6.1)\n",
      "Requirement already satisfied: pyOpenSSL>=22.0.0 in c:\\users\\user\\desktop\\3dsoft2024\\clientes\\scrapping petshot\\scrapping\\scrapping_v1\\lib\\site-packages (from selenium-wire->-r requirements.txt (line 1)) (24.2.1)\n",
      "Requirement already satisfied: pyparsing>=2.4.2 in c:\\users\\user\\desktop\\3dsoft2024\\clientes\\scrapping petshot\\scrapping\\scrapping_v1\\lib\\site-packages (from selenium-wire->-r requirements.txt (line 1)) (3.2.0)\n",
      "Requirement already satisfied: pysocks>=1.7.1 in c:\\users\\user\\desktop\\3dsoft2024\\clientes\\scrapping petshot\\scrapping\\scrapping_v1\\lib\\site-packages (from selenium-wire->-r requirements.txt (line 1)) (1.7.1)\n",
      "Requirement already satisfied: wsproto>=0.14 in c:\\users\\user\\desktop\\3dsoft2024\\clientes\\scrapping petshot\\scrapping\\scrapping_v1\\lib\\site-packages (from selenium-wire->-r requirements.txt (line 1)) (1.2.0)\n",
      "Requirement already satisfied: zstandard>=0.14.1 in c:\\users\\user\\desktop\\3dsoft2024\\clientes\\scrapping petshot\\scrapping\\scrapping_v1\\lib\\site-packages (from selenium-wire->-r requirements.txt (line 1)) (0.23.0)\n",
      "Requirement already satisfied: h2>=4.0 in c:\\users\\user\\desktop\\3dsoft2024\\clientes\\scrapping petshot\\scrapping\\scrapping_v1\\lib\\site-packages (from selenium-wire->-r requirements.txt (line 1)) (4.1.0)\n",
      "Requirement already satisfied: hyperframe>=6.0 in c:\\users\\user\\desktop\\3dsoft2024\\clientes\\scrapping petshot\\scrapping\\scrapping_v1\\lib\\site-packages (from selenium-wire->-r requirements.txt (line 1)) (6.0.1)\n",
      "Requirement already satisfied: pydivert>=2.0.3 in c:\\users\\user\\desktop\\3dsoft2024\\clientes\\scrapping petshot\\scrapping\\scrapping_v1\\lib\\site-packages (from selenium-wire->-r requirements.txt (line 1)) (2.1.0)\n",
      "Requirement already satisfied: urllib3<3,>=1.26 in c:\\users\\user\\desktop\\3dsoft2024\\clientes\\scrapping petshot\\scrapping\\scrapping_v1\\lib\\site-packages (from urllib3[socks]<3,>=1.26->selenium->-r requirements.txt (line 3)) (2.2.3)\n",
      "Requirement already satisfied: trio~=0.17 in c:\\users\\user\\desktop\\3dsoft2024\\clientes\\scrapping petshot\\scrapping\\scrapping_v1\\lib\\site-packages (from selenium->-r requirements.txt (line 3)) (0.26.2)\n",
      "Requirement already satisfied: trio-websocket~=0.9 in c:\\users\\user\\desktop\\3dsoft2024\\clientes\\scrapping petshot\\scrapping\\scrapping_v1\\lib\\site-packages (from selenium->-r requirements.txt (line 3)) (0.11.1)\n",
      "Requirement already satisfied: typing_extensions~=4.9 in c:\\users\\user\\desktop\\3dsoft2024\\clientes\\scrapping petshot\\scrapping\\scrapping_v1\\lib\\site-packages (from selenium->-r requirements.txt (line 3)) (4.12.2)\n",
      "Requirement already satisfied: websocket-client~=1.8 in c:\\users\\user\\desktop\\3dsoft2024\\clientes\\scrapping petshot\\scrapping\\scrapping_v1\\lib\\site-packages (from selenium->-r requirements.txt (line 3)) (1.8.0)\n",
      "Requirement already satisfied: hpack<5,>=4.0 in c:\\users\\user\\desktop\\3dsoft2024\\clientes\\scrapping petshot\\scrapping\\scrapping_v1\\lib\\site-packages (from h2>=4.0->selenium-wire->-r requirements.txt (line 1)) (4.0.0)\n",
      "Requirement already satisfied: cryptography<44,>=41.0.5 in c:\\users\\user\\desktop\\3dsoft2024\\clientes\\scrapping petshot\\scrapping\\scrapping_v1\\lib\\site-packages (from pyOpenSSL>=22.0.0->selenium-wire->-r requirements.txt (line 1)) (43.0.1)\n",
      "Requirement already satisfied: attrs>=23.2.0 in c:\\users\\user\\desktop\\3dsoft2024\\clientes\\scrapping petshot\\scrapping\\scrapping_v1\\lib\\site-packages (from trio~=0.17->selenium->-r requirements.txt (line 3)) (24.2.0)\n",
      "Requirement already satisfied: sortedcontainers in c:\\users\\user\\desktop\\3dsoft2024\\clientes\\scrapping petshot\\scrapping\\scrapping_v1\\lib\\site-packages (from trio~=0.17->selenium->-r requirements.txt (line 3)) (2.4.0)\n",
      "Requirement already satisfied: idna in c:\\users\\user\\desktop\\3dsoft2024\\clientes\\scrapping petshot\\scrapping\\scrapping_v1\\lib\\site-packages (from trio~=0.17->selenium->-r requirements.txt (line 3)) (3.10)\n",
      "Requirement already satisfied: outcome in c:\\users\\user\\desktop\\3dsoft2024\\clientes\\scrapping petshot\\scrapping\\scrapping_v1\\lib\\site-packages (from trio~=0.17->selenium->-r requirements.txt (line 3)) (1.3.0.post0)\n",
      "Requirement already satisfied: sniffio>=1.3.0 in c:\\users\\user\\desktop\\3dsoft2024\\clientes\\scrapping petshot\\scrapping\\scrapping_v1\\lib\\site-packages (from trio~=0.17->selenium->-r requirements.txt (line 3)) (1.3.1)\n",
      "Requirement already satisfied: cffi>=1.14 in c:\\users\\user\\desktop\\3dsoft2024\\clientes\\scrapping petshot\\scrapping\\scrapping_v1\\lib\\site-packages (from trio~=0.17->selenium->-r requirements.txt (line 3)) (1.17.1)\n",
      "Requirement already satisfied: h11<1,>=0.9.0 in c:\\users\\user\\desktop\\3dsoft2024\\clientes\\scrapping petshot\\scrapping\\scrapping_v1\\lib\\site-packages (from wsproto>=0.14->selenium-wire->-r requirements.txt (line 1)) (0.14.0)\n",
      "Requirement already satisfied: pycparser in c:\\users\\user\\desktop\\3dsoft2024\\clientes\\scrapping petshot\\scrapping\\scrapping_v1\\lib\\site-packages (from cffi>=1.14->trio~=0.17->selenium->-r requirements.txt (line 3)) (2.22)\n"
     ]
    },
    {
     "name": "stderr",
     "output_type": "stream",
     "text": [
      "\n",
      "[notice] A new release of pip is available: 24.0 -> 24.2\n",
      "[notice] To update, run: python.exe -m pip install --upgrade pip\n"
     ]
    }
   ],
   "source": [
    "!pip install -r requirements.txt"
   ]
  },
  {
   "cell_type": "code",
   "execution_count": 2,
   "id": "6881d8a1-415f-455e-886e-40d7b43e884e",
   "metadata": {},
   "outputs": [],
   "source": [
    "from seleniumwire import webdriver\n",
    "from selenium.webdriver.common.by import By\n",
    "from selenium.webdriver.chrome.service import Service\n",
    "from selenium.webdriver.chrome.options import Options\n",
    "import json\n",
    "from selenium.webdriver.common.keys import Keys\n",
    "from selenium.webdriver.common.action_chains import ActionChains\n",
    "from selenium.webdriver.support.ui import WebDriverWait\n",
    "from selenium.webdriver.support import expected_conditions as EC\n",
    "from seleniumwire.utils import decode"
   ]
  },
  {
   "cell_type": "code",
   "execution_count": 3,
   "id": "74fdb554-363b-465f-b5db-34d6c560fcc7",
   "metadata": {},
   "outputs": [],
   "source": [
    "#Variables\n",
    "website = 'https://jardinzoo.cl/roedores-167'\n",
    "fileName = 'rodentsProducts'\n",
    "folder = 'jardinzoo'"
   ]
  },
  {
   "cell_type": "code",
   "execution_count": 4,
   "id": "ce7a87ac-805f-450d-8cf9-bf9348115615",
   "metadata": {},
   "outputs": [],
   "source": [
    "chrome_options = Options()\n",
    "chrome_options.set_capability('goog:loggingPrefs', {'performance': 'ALL'})\n",
    "chrome_options.add_argument('--auto-open-devtools-for-tabs')\n",
    "chrome_options.add_argument('--no-sandbox')\n",
    "chrome_options.add_argument('--disable-dev-shm-usage')\n",
    "chrome_options.add_argument('--disable_encoding')\n",
    "\n",
    "driver = webdriver.Chrome(options=chrome_options)\n",
    "\n",
    "driver.execute_cdp_cmd(\"Network.enable\", {})\n",
    "\n",
    "driver.get(website)\n",
    "\n",
    "wait = WebDriverWait(driver, 30)"
   ]
  },
  {
   "cell_type": "code",
   "execution_count": 5,
   "id": "901bbde2-efe7-44bb-bc83-172e18df9b15",
   "metadata": {},
   "outputs": [],
   "source": [
    "#Products\n",
    "products = []"
   ]
  },
  {
   "cell_type": "code",
   "execution_count": 6,
   "id": "0bd0edc6-a76d-4f45-abd9-a76e08c7eb82",
   "metadata": {},
   "outputs": [
    {
     "name": "stdout",
     "output_type": "stream",
     "text": [
      "Error inesperado: Message: \n",
      "Stacktrace:\n",
      "\tGetHandleVerifier [0x00007FF620C0B095+29557]\n",
      "\t(No symbol) [0x00007FF620B7FA50]\n",
      "\t(No symbol) [0x00007FF620A3B56A]\n",
      "\t(No symbol) [0x00007FF620A8F695]\n",
      "\t(No symbol) [0x00007FF620A8F8EC]\n",
      "\t(No symbol) [0x00007FF620ADB777]\n",
      "\t(No symbol) [0x00007FF620AB71CF]\n",
      "\t(No symbol) [0x00007FF620AD851C]\n",
      "\t(No symbol) [0x00007FF620AB6F33]\n",
      "\t(No symbol) [0x00007FF620A8116F]\n",
      "\t(No symbol) [0x00007FF620A822D1]\n",
      "\tGetHandleVerifier [0x00007FF620F3C96D+3378253]\n",
      "\tGetHandleVerifier [0x00007FF620F88497+3688311]\n",
      "\tGetHandleVerifier [0x00007FF620F7D1CB+3642539]\n",
      "\tGetHandleVerifier [0x00007FF620CCA6B6+813462]\n",
      "\t(No symbol) [0x00007FF620B8AB5F]\n",
      "\t(No symbol) [0x00007FF620B86B74]\n",
      "\t(No symbol) [0x00007FF620B86D10]\n",
      "\t(No symbol) [0x00007FF620B75C1F]\n",
      "\tBaseThreadInitThunk [0x00007FF9D0D2257D+29]\n",
      "\tRtlUserThreadStart [0x00007FF9D2D2AF28+40]\n",
      "\n"
     ]
    }
   ],
   "source": [
    "from selenium.common.exceptions import NoSuchElementException, StaleElementReferenceException\n",
    "import time\n",
    "import random\n",
    "\n",
    "def scan_products():\n",
    "    wait.until(EC.presence_of_all_elements_located((By.CSS_SELECTOR, 'article')))\n",
    "    items = driver.find_elements(By.CSS_SELECTOR, 'article')\n",
    "    \n",
    "    for item in items:\n",
    "        image_url = item.find_element(By.CSS_SELECTOR, 'img').get_attribute('src')\n",
    "        product_url = item.find_element(By.CSS_SELECTOR, 'a').get_attribute('href')\n",
    "        title = item.find_element(By.CSS_SELECTOR, '.product-title').text\n",
    "        price = item.find_element(By.CSS_SELECTOR, '.price').text\n",
    "        products.append({\n",
    "            'image_url': image_url,\n",
    "            'product_url': product_url,\n",
    "            'title': title,\n",
    "            'price': price,\n",
    "        })\n",
    "    \n",
    "def go_to_next_page():\n",
    "    try:\n",
    "        next_button = wait.until(EC.presence_of_element_located((By.CSS_SELECTOR, '.next')))\n",
    "        next_button.click()\n",
    "        wait.until(EC.staleness_of(next_button))\n",
    "        return True\n",
    "    except NoSuchElementException:\n",
    "        print(\"Botón 'next' no encontrado, final de la paginación.\")\n",
    "        return False\n",
    "    except StaleElementReferenceException:\n",
    "        print(\"El botón 'next' ya no es válido en el DOM.\")\n",
    "        return False\n",
    "        \n",
    "flag = True\n",
    "while(flag):\n",
    "    try:\n",
    "        scan_products()\n",
    "        time.sleep(random.uniform(3, 8))\n",
    "        flag = go_to_next_page()\n",
    "    except Exception as e:\n",
    "        print(f\"Error inesperado: {e}\")\n",
    "        flag = False\n",
    "                "
   ]
  },
  {
   "cell_type": "code",
   "execution_count": 7,
   "id": "b19463d8-1cb5-4502-ae82-46259c518b5a",
   "metadata": {},
   "outputs": [
    {
     "name": "stdout",
     "output_type": "stream",
     "text": [
      "[{'image_url': 'https://jardinzoo.cl/1891-home_default/alimento-para-mini-hamster-tropifit-150g.jpg', 'product_url': 'https://jardinzoo.cl/hamster/1686-alimento-para-mini-hamster-tropifit-150g-5900469532126.html', 'title': 'ALIMENTO PARA MINI HAMSTER TROPIFIT 150G', 'price': '$ 3.200'}, {'image_url': 'https://jardinzoo.cl/7723-home_default/arnes-mini-mascota-m.jpg', 'product_url': 'https://jardinzoo.cl/inicio/4768-arnes-mini-mascota-m-709081031292.html', 'title': 'ARNES MINI MASCOTA M', 'price': '$ 3.500'}, {'image_url': 'https://jardinzoo.cl/8734-home_default/brit-animals-guinea-pig-15kg.jpg', 'product_url': 'https://jardinzoo.cl/cuye-conejillo-de-indias/5196-brit-animals-guinea-pig-15kg-8595602504787.html', 'title': 'BRIT ANIMALS GUINEA PIG 1,5KG', 'price': '$ 20.950'}, {'image_url': 'https://jardinzoo.cl/9709-home_default/brit-animals-guinea-pig-300-grs.jpg', 'product_url': 'https://jardinzoo.cl/cuye-conejillo-de-indias/5538-brit-animals-guinea-pig-300-grs-8595602504794.html', 'title': 'BRIT ANIMALS GUINEA PIG 300 GRS', 'price': '$ 6.100'}, {'image_url': 'https://jardinzoo.cl/11007-home_default/brit-animals-hamster-300grs.jpg', 'product_url': 'https://jardinzoo.cl/cuye-conejillo-de-indias/6129-brit-animals-hamster-300grs-8595602504879.html', 'title': 'BRIT ANIMALS HAMSTER 300GRS', 'price': '$ 5.550'}, {'image_url': 'https://jardinzoo.cl/9711-home_default/brit-animals-rabbit-300-grs.jpg', 'product_url': 'https://jardinzoo.cl/alimentos/5539-brit-animals-rabbit-300-grs-8595602504848.html', 'title': 'BRIT ANIMALS RABBIT 300 GRS', 'price': '$ 5.700'}, {'image_url': 'https://jardinzoo.cl/6168-home_default/living-world-extrusion-conejo-600g.jpg', 'product_url': 'https://jardinzoo.cl/conejos/3180-living-world-extrusion-conejo-600g-7621779904080.html', 'title': 'HENO HENOLET ALFALFA 100% NATURAL', 'price': '$ 4.000'}, {'image_url': 'https://jardinzoo.cl/3653-home_default/jaula-conejera-r1.jpg', 'product_url': 'https://jardinzoo.cl/jaulas-maletas-casas/2886-jaula-conejera-r1-2019.html', 'title': 'JAULA CONEJERA R1', 'price': '$ 23.800'}, {'image_url': 'https://jardinzoo.cl/3654-home_default/jaula-conejera-r2.jpg', 'product_url': 'https://jardinzoo.cl/jaulas-maletas-casas/2887-jaula-conejera-r2-2018.html', 'title': 'JAULA CONEJERA R2', 'price': '$ 40.900'}, {'image_url': 'https://jardinzoo.cl/10000-home_default/living-world-bano-esquinero-celeste.jpg', 'product_url': 'https://jardinzoo.cl/accesorios-hamster-y-ratitas/5670-544-living-world-bano-esquinero-celeste-80605617629.html#/39-talla-m', 'title': 'LIVING WORLD BAÑO ESQUINERO CELESTE', 'price': '$ 4.200'}, {'image_url': 'https://jardinzoo.cl/9998-home_default/living-world-bano-esquinero-rosado.jpg', 'product_url': 'https://jardinzoo.cl/accesorios-hamster-y-ratitas/5669-546-living-world-bano-esquinero-rosado-80605617605.html#/39-talla-m', 'title': 'LIVING WORLD BAÑO ESQUINERO ROSADO', 'price': '$ 4.200'}, {'image_url': 'https://jardinzoo.cl/3538-home_default/living-world-bebedero-120ml.jpg', 'product_url': 'https://jardinzoo.cl/accesorios-conejos/2070-living-world-bebedero-120ml-80605615304.html', 'title': 'LIVING WORLD BEBEDERO 120ML', 'price': '$ 4.200'}, {'image_url': 'https://jardinzoo.cl/3539-home_default/living-world-bebedero-475-ml.jpg', 'product_url': 'https://jardinzoo.cl/accesorios-conejos/2803-living-world-bebedero-475-ml-80605615359.html', 'title': 'LIVING WORLD BEBEDERO 235 ML', 'price': '$ 4.500'}, {'image_url': 'https://jardinzoo.cl/3540-home_default/living-world-bebedero-946-ml.jpg', 'product_url': 'https://jardinzoo.cl/accesorios-conejos/2804-living-world-bebedero-946-ml-80605615403.html', 'title': 'LIVING WORLD BEBEDERO 475ML', 'price': '$ 6.800'}, {'image_url': 'https://jardinzoo.cl/4469-home_default/living-world-bebedero-946-ml.jpg', 'product_url': 'https://jardinzoo.cl/accesorios-conejos/3481-living-world-bebedero-946-ml-80605615458.html', 'title': 'LIVING WORLD BEBEDERO 946 ML', 'price': '$ 7.500'}, {'image_url': 'https://jardinzoo.cl/4221-home_default/living-world-bloques-minerales-amarillo.jpg', 'product_url': 'https://jardinzoo.cl/accesorios-conejos/3377-living-world-bloques-minerales-amarillo-80605610224.html', 'title': 'LIVING WORLD BLOQUES MINERALES AMARILLO', 'price': '$ 1.800'}, {'image_url': 'https://jardinzoo.cl/6468-home_default/living-world-bloques-minerales-amarillo.jpg', 'product_url': 'https://jardinzoo.cl/accesorios-conejos/2055-living-world-bloques-minerales-amarillo-80605610200.html', 'title': 'LIVING WORLD BLOQUES MINERALES AMARILLO', 'price': '$ 1.800'}, {'image_url': 'https://jardinzoo.cl/7756-home_default/-living-world-chew-nels-170-grs.jpg', 'product_url': 'https://jardinzoo.cl/conejos/4776--living-world-chew-nels-170-grs-80605612228.html', 'title': 'LIVING WORLD CHEW- NELS 170 GRS', 'price': '$ 7.500'}, {'image_url': 'https://jardinzoo.cl/4182-home_default/living-world-drops-conejo-zanahoria-75g.jpg', 'product_url': 'https://jardinzoo.cl/conejos/3328-living-world-drops-conejo-zanahoria-75g-80605612228.html', 'title': 'LIVING WORLD CHEW- NELS 70g', 'price': '$ 3.800'}, {'image_url': 'https://jardinzoo.cl/6431-home_default/corta-unas-le-salon-sm.jpg', 'product_url': 'https://jardinzoo.cl/accesorios-conejos/4391-corta-unas-le-salon-sm-080605666177.html', 'title': 'LIVING WORLD CORTA UÑAS PARA ANIMALES...', 'price': '$ 7.200'}, {'image_url': 'https://jardinzoo.cl/5998-home_default/living-world-drops-for-rabbits.jpg', 'product_url': 'https://jardinzoo.cl/cuye-conejillo-de-indias/4255-living-world-drops-for-rabbits-80605604063.html', 'title': 'LIVING WORLD DROPS BERRYS PARA CUYE 75G', 'price': '$ 3.950'}, {'image_url': 'https://jardinzoo.cl/7750-home_default/living-world-drops-conejo-frutos-rojos-75grs.jpg', 'product_url': 'https://jardinzoo.cl/conejos/2063-living-world-drops-conejo-frutos-rojos-75grs-80605605060.html', 'title': 'LIVING WORLD DROPS CONEJO FRUTOS ROJOS 75GRS', 'price': '$ 4.000'}, {'image_url': 'https://jardinzoo.cl/1332-home_default/living-world-drops-hamster-yogurt-75g.jpg', 'product_url': 'https://jardinzoo.cl/hamster/331-living-world-drops-hamster-yogurt-75g-080605603004.html', 'title': 'LIVING WORLD DROPS HAMSTER YOGURT 75G', 'price': '$ 3.000'}, {'image_url': 'https://jardinzoo.cl/6165-home_default/living-world-extrusion-conejo-14-kg.jpg', 'product_url': 'https://jardinzoo.cl/conejos/2794-living-world-extrusion-conejo-14-kg-80605605732.html', 'title': 'LIVING WORLD EXTRUSION CONEJO 1,4 KG', 'price': '$ 15.900'}, {'image_url': 'https://jardinzoo.cl/2521-home_default/living-world-extrusion-conejo-600g.jpg', 'product_url': 'https://jardinzoo.cl/conejos/2052-living-world-extrusion-conejo-600g-80605605725.html', 'title': 'LIVING WORLD EXTRUSION CONEJO 600G', 'price': '$ 7.900'}, {'image_url': 'https://jardinzoo.cl/789-home_default/living-world-extrusion-cuye-14-kg.jpg', 'product_url': 'https://jardinzoo.cl/cuye-conejillo-de-indias/736-living-world-extrusion-cuye-14-kg-80605604636.html', 'title': 'LIVING WORLD EXTRUSION CUYE 1.4 KG', 'price': '$ 15.900'}, {'image_url': 'https://jardinzoo.cl/10769-home_default/living-world-iglu.jpg', 'product_url': 'https://jardinzoo.cl/accesorios-hamster-y-ratitas/6023-556-living-world-iglu-80605617629.html#/39-talla-m', 'title': 'LIVING WORLD IGLU', 'price': '$ 4.400'}, {'image_url': 'https://jardinzoo.cl/3656-home_default/living-world-nibblers-madera.jpg', 'product_url': 'https://jardinzoo.cl/accesorios-conejos/2888-living-world-nibblers-madera-80605614673.html', 'title': 'LIVING WORLD NIBBLERS MADERA', 'price': '$ 6.800'}, {'image_url': 'https://jardinzoo.cl/915-home_default/living-world-salt-lickstone-50-grs.jpg', 'product_url': 'https://jardinzoo.cl/accesorios-conejos/850-living-world-salt-lickstone-50-grs-080605610118.html', 'title': 'LIVING WORLD SALT LICKSTONE 50 Grs', 'price': '$ 2.700'}, {'image_url': 'https://jardinzoo.cl/3980-home_default/living-world-extrusion-conejo-600g.jpg', 'product_url': 'https://jardinzoo.cl/sustratos-e-higiene/3187-living-world-extrusion-conejo-600g-80605612624.html', 'title': 'LIVING WORLD SUSTRATO DE PAPEL 20 L', 'price': '$ 22.200'}, {'image_url': 'https://jardinzoo.cl/5991-home_default/living-world-extrusion-conejo-600g.jpg', 'product_url': 'https://jardinzoo.cl/sustratos-e-higiene/4252-living-world-extrusion-conejo-600g-80605612617.html', 'title': 'LIVING WORLD SUSTRATO DE PAPEL CAFE 10 L', 'price': '$ 12.500'}, {'image_url': 'https://jardinzoo.cl/2562-home_default/living-world-sustrato-papel-azul.jpg', 'product_url': 'https://jardinzoo.cl/sustratos-e-higiene/2092-living-world-sustrato-papel-azul-80605612655.html', 'title': 'LIVING WORLD SUSTRATO PAPEL AZUL 10 L', 'price': '$ 12.500'}, {'image_url': 'https://jardinzoo.cl/4007-home_default/living-world-sustrato-papel-azul.jpg', 'product_url': 'https://jardinzoo.cl/sustratos-e-higiene/3202-living-world-sustrato-papel-azul-80605612662.html', 'title': 'LIVING WORLD SUSTRATO PAPEL AZUL 20 L', 'price': '$ 22.180'}, {'image_url': 'https://jardinzoo.cl/5983-home_default/living-world-sustrato-papel-azul.jpg', 'product_url': 'https://jardinzoo.cl/sustratos-e-higiene/4248-living-world-sustrato-papel-azul-80605612747.html', 'title': 'LIVING WORLD SUSTRATO PAPEL PELLET 10 L', 'price': '$ 13.400'}, {'image_url': 'https://jardinzoo.cl/6952-home_default/lw-botella-xs-50-ml.jpg', 'product_url': 'https://jardinzoo.cl/accesorios-hamster-y-ratitas/4540-lw-botella-xs-50-ml-080605615250.html', 'title': 'LW BOTELLA XS 50 ML', 'price': '$ 3.300'}, {'image_url': 'https://jardinzoo.cl/8063-home_default/mazuri-guinea-pig-timothy-diet-1k.jpg', 'product_url': 'https://jardinzoo.cl/cuye-conejillo-de-indias/3810-mazuri-guinea-pig-timothy-diet-1k-742832504140.html', 'title': 'MAZURI GUINEA PIG TIMOTHY DIET 1K', 'price': '$ 10.150'}, {'image_url': 'https://jardinzoo.cl/7116-home_default/mazuri-hedgehog-diet-15k.jpg', 'product_url': 'https://jardinzoo.cl/hamster/4583-mazuri-hedgehog-diet-15k-742832770637.html', 'title': 'MAZURI HAMSTER &GERBIL DIET 350 GRS', 'price': '$ 3.600'}, {'image_url': 'https://jardinzoo.cl/7754-home_default/mazuri-hedgehog-diet-500gr.jpg', 'product_url': 'https://jardinzoo.cl/erizo-de-tierra/3808-mazuri-hedgehog-diet-500gr-742832504157.html', 'title': 'MAZURI HEDGEHOG DIET 500GR', 'price': '$ 6.750'}, {'image_url': 'https://jardinzoo.cl/7899-home_default/mazuri-rabbit-diet-25-kg.jpg', 'product_url': 'https://jardinzoo.cl/conejos/4835-mazuri-rabbit-diet-25-kg-019213594756.html', 'title': 'MAZURI RABBIT DIET 2.5 KG', 'price': '$ 24.050'}, {'image_url': 'https://jardinzoo.cl/5033-home_default/mazuri-timothy-rabbit-diet-1k.jpg', 'product_url': 'https://jardinzoo.cl/alimentos/3807-mazuri-timothy-rabbit-diet-1k-742832504133.html', 'title': 'MAZURI TIMOTHY RABBIT DIET 1K', 'price': '$ 11.600'}, {'image_url': 'https://jardinzoo.cl/10009-home_default/oxbow-heno-de-avena-425gr.jpg', 'product_url': 'https://jardinzoo.cl/conejos/5674-oxbow-heno-de-avena-425gr-744845402703.html', 'title': 'OXBOW HENO DE AVENA 425GR', 'price': '$ 8.400'}, {'image_url': 'https://jardinzoo.cl/6171-home_default/oxbow-heno-de-hierba-de-huerto-425-grs.jpg', 'product_url': 'https://jardinzoo.cl/conejos/4312-oxbow-heno-de-hierba-de-huerto-425-grs-7621779904080.html', 'title': 'OXBOW HENO DE HIERBA DE HUERTO 425 GRS', 'price': '$ 8.400'}, {'image_url': 'https://jardinzoo.cl/5040-home_default/oxbow-heno-western-timothy-425g.jpg', 'product_url': 'https://jardinzoo.cl/roedores/3814-oxbow-heno-western-timothy-425g-744845402253.html', 'title': 'OXBOW HENO WESTERN TIMOTHY 425G', 'price': '$ 8.400'}, {'image_url': 'https://jardinzoo.cl/6434-home_default/pawise-arnes-small-para-hamster.jpg', 'product_url': 'https://jardinzoo.cl/liquidazoo/4393-pawise-arnes-small-para-hamster.html', 'title': 'PAWISE ARNES LARGE', 'price': '$ 4.500'}, {'image_url': 'https://jardinzoo.cl/7301-home_default/pellet-ecologico-4kg.jpg', 'product_url': 'https://jardinzoo.cl/sustratos-e-higiene/4664-pellet-ecologico-4kg-781159065521.html', 'title': 'PELLET ECOLOGICO 4KG', 'price': '$ 6.700'}, {'image_url': 'https://jardinzoo.cl/8093-home_default/sustrato-my-pet-litter-10-l.jpg', 'product_url': 'https://jardinzoo.cl/sustratos-e-higiene/4891-sustrato-my-pet-litter-10-l-019213594619.html', 'title': 'SUSTRATO MY PET LITTER 10 L', 'price': '$ 14.100'}, {'image_url': 'https://jardinzoo.cl/8094-home_default/sustrato-my-pet-litter-4l.jpg', 'product_url': 'https://jardinzoo.cl/sustratos-e-higiene/4892-sustrato-my-pet-litter-4l-019213594619.html', 'title': 'SUSTRATO MY PET LITTER 4L', 'price': '$ 6.400'}, {'image_url': 'https://jardinzoo.cl/1890-home_default/alimento-para-hamster-tropifit-500g.jpg', 'product_url': 'https://jardinzoo.cl/hamster/1685-alimento-para-hamster-tropifit-500g-5900469531112.html', 'title': 'ALIMENTO PARA HAMSTER TROPIFIT 500G', 'price': '$ 5.900'}, {'image_url': 'https://jardinzoo.cl/9806-home_default/jaula-conejo-full-con-plataforma.jpg', 'product_url': 'https://jardinzoo.cl/jaulas-maletas-casas/5577-jaula-conejo-full-con-plataforma.html', 'title': 'JAULA CONEJO FULL CON PLATAFORMA', 'price': '$ 67.700'}, {'image_url': 'https://jardinzoo.cl/7749-home_default/living-world-drops-conejo-zanahoria-75g.jpg', 'product_url': 'https://jardinzoo.cl/conejos/3327-living-world-drops-conejo-zanahoria-75g-80605603905.html', 'title': 'LIVING WORLD BITES 75g', 'price': '$ 3.800'}, {'image_url': 'https://jardinzoo.cl/4181-home_default/living-world-bola-de-ejercicios-small.jpg', 'product_url': 'https://jardinzoo.cl/accesorios-hamster-y-ratitas/322-living-world-bola-de-ejercicios-small-80605617209.html', 'title': 'LIVING WORLD BOLA DE EJERCICIOS SMALL', 'price': '$ 6.100'}, {'image_url': 'https://jardinzoo.cl/2532-home_default/living-world-drops-conejo-zanahoria-75g.jpg', 'product_url': 'https://jardinzoo.cl/conejos/2064-living-world-drops-conejo-zanahoria-75g-80605605084.html', 'title': 'LIVING WORLD DROPS CONEJO ZANAHORIA 75g', 'price': '$ 4.000'}, {'image_url': 'https://jardinzoo.cl/6010-home_default/living-world-extrusion-cuye-600g.jpg', 'product_url': 'https://jardinzoo.cl/cuye-conejillo-de-indias/735-living-world-extrusion-cuye-600g-80605604629.html', 'title': 'LIVING WORLD EXTRUSION CUYE 600G', 'price': '$ 7.900'}, {'image_url': 'https://jardinzoo.cl/6432-home_default/pawise-arnes-small-para-hamster.jpg', 'product_url': 'https://jardinzoo.cl/accesorios-hamster-y-ratitas/4392-pawise-arnes-small-para-hamster-8886467590818.html', 'title': 'PAWISE ARNES PARA HAMSTER S', 'price': '$ 6.200'}, {'image_url': 'https://jardinzoo.cl/3684-home_default/spikes-alimento-para-erizo-600-grs.jpg', 'product_url': 'https://jardinzoo.cl/erizo-de-tierra/2908-spikes-alimento-para-erizo-600-grs-5033944490106.html', 'title': 'SPIKES ALIMENTO PARA ERIZO 600 GRS', 'price': '$ 6.100'}, {'image_url': 'https://jardinzoo.cl/9528-home_default/sustrato-de-papel-asan-petit-10-l.jpg', 'product_url': 'https://jardinzoo.cl/sustratos-e-higiene/5459-sustrato-de-papel-asan-petit-10-l-8594073071170.html', 'title': 'SUSTRATO DE PAPEL ASAN PETIT 10 L', 'price': '$ 7.900'}, {'image_url': 'https://jardinzoo.cl/9531-home_default/sustrato-de-papel-asan-petit-42-l.jpg', 'product_url': 'https://jardinzoo.cl/sustratos-e-higiene/5460-sustrato-de-papel-asan-petit-42-l-8594073070166.html', 'title': 'SUSTRATO DE PAPEL ASAN PETIT 42 L', 'price': '$ 35.700'}, {'image_url': 'https://jardinzoo.cl/9526-home_default/-sustrato-de-papel-asan-petit-5l.jpg', 'product_url': 'https://jardinzoo.cl/sustratos-e-higiene/5458--sustrato-de-papel-asan-petit-5l-8594073071163.html', 'title': 'SUSTRATO DE PAPEL ASAN PETIT 5L', 'price': '$ 5.250'}, {'image_url': 'https://jardinzoo.cl/3534-home_default/tropifit-alimento-cuye-15-kg.jpg', 'product_url': 'https://jardinzoo.cl/cuye-conejillo-de-indias/2799-tropifit-alimento-cuye-15-kg-5900469531266.html', 'title': 'TROPIFIT ALIMENTO CUYE 1.5 KG', 'price': '$ 13.300'}, {'image_url': 'https://jardinzoo.cl/1889-home_default/tropifit-alimento-para-conejos-500g.jpg', 'product_url': 'https://jardinzoo.cl/conejos/1684-tropifit-alimento-para-conejos-500g-5900469531310.html', 'title': 'TROPIFIT ALIMENTO PARA CONEJOS 500g', 'price': '$ 5.350'}, {'image_url': 'https://jardinzoo.cl/1888-home_default/tropifit-alimento-para-erizo-de-tierra-300g.jpg', 'product_url': 'https://jardinzoo.cl/erizo-de-tierra/1683-tropifit-alimento-para-erizo-de-tierra-300g-5900469531815.html', 'title': 'TROPIFIT ALIMENTO PARA ERIZO DE TIERRA 300G', 'price': '$ 6.200'}, {'image_url': 'https://jardinzoo.cl/5216-home_default/alimento-para-conejos-tropifit.jpg', 'product_url': 'https://jardinzoo.cl/alimentos/3917-alimento-para-conejos-tropifit-5900469531211.html', 'title': 'TROPIFIT ALIMENTO PARA GUINEA 500g', 'price': '$ 5.900'}, {'image_url': 'https://jardinzoo.cl/6176-home_default/tropifit-conejo-1-5-kg.jpg', 'product_url': 'https://jardinzoo.cl/conejos/3181-tropifit-conejo-1-5-kg-5900469531365.html', 'title': 'TROPIFIT CONEJO 1. 5 KG', 'price': '$ 15.200'}, {'image_url': 'https://jardinzoo.cl/3971-home_default/living-world-extrusion-conejo-600g.jpg', 'product_url': 'https://jardinzoo.cl/sustratos-e-higiene/3182-living-world-extrusion-conejo-600g-7804645360023.html', 'title': 'VIRUTA VEGETAL CANAIMA', 'price': '$ 2.000'}]\n",
      "64\n"
     ]
    }
   ],
   "source": [
    "print(products)\n",
    "print(len(products))"
   ]
  },
  {
   "cell_type": "code",
   "execution_count": 8,
   "id": "6da18b72-16c2-4849-9f2e-07c4f8eb6b15",
   "metadata": {},
   "outputs": [
    {
     "name": "stdout",
     "output_type": "stream",
     "text": [
      "El elemento ARNES MINI MASCOTA M '.product-manufacturer' no se encuentra en esta página\n",
      "El elemento HENO HENOLET ALFALFA 100% NATURAL '.product-manufacturer' no se encuentra en esta página\n",
      "El elemento JAULA CONEJERA R1 '.product-manufacturer' no se encuentra en esta página\n",
      "El elemento JAULA CONEJERA R2 '.product-manufacturer' no se encuentra en esta página\n",
      "El elemento LIVING WORLD EXTRUSION CONEJO 1,4 KG '.product-manufacturer' no se encuentra en esta página\n",
      "El elemento LW BOTELLA XS 50 ML '.product-manufacturer' no se encuentra en esta página\n",
      "El elemento OXBOW HENO DE AVENA 425GR '.product-manufacturer' no se encuentra en esta página\n",
      "El elemento OXBOW HENO DE HIERBA DE HUERTO 425 GRS '.product-manufacturer' no se encuentra en esta página\n",
      "El elemento OXBOW HENO WESTERN TIMOTHY 425G '.product-manufacturer' no se encuentra en esta página\n",
      "El elemento PELLET ECOLOGICO 4KG '.product-manufacturer' no se encuentra en esta página\n",
      "El elemento SUSTRATO MY PET LITTER 10 L '.product-manufacturer' no se encuentra en esta página\n",
      "El elemento SUSTRATO MY PET LITTER 4L '.product-manufacturer' no se encuentra en esta página\n",
      "El elemento ALIMENTO PARA HAMSTER TROPIFIT 500G '.product-manufacturer' no se encuentra en esta página\n",
      "El elemento JAULA CONEJO FULL CON PLATAFORMA '.product-manufacturer' no se encuentra en esta página\n",
      "El elemento LIVING WORLD BOLA DE EJERCICIOS SMALL '.product-manufacturer' no se encuentra en esta página\n",
      "El elemento SPIKES ALIMENTO PARA ERIZO 600 GRS '.product-manufacturer' no se encuentra en esta página\n",
      "El elemento SUSTRATO DE PAPEL ASAN PETIT 10 L '.product-manufacturer' no se encuentra en esta página\n",
      "El elemento SUSTRATO DE PAPEL ASAN PETIT 42 L '.product-manufacturer' no se encuentra en esta página\n",
      "El elemento SUSTRATO DE PAPEL ASAN PETIT 5L '.product-manufacturer' no se encuentra en esta página\n",
      "El elemento TROPIFIT ALIMENTO CUYE 1.5 KG '.product-manufacturer' no se encuentra en esta página\n",
      "El elemento TROPIFIT ALIMENTO PARA ERIZO DE TIERRA 300G '.product-manufacturer' no se encuentra en esta página\n",
      "El elemento VIRUTA VEGETAL CANAIMA '.product-manufacturer' no se encuentra en esta página\n"
     ]
    }
   ],
   "source": [
    "def go_to_product(product):\n",
    "    wait = WebDriverWait(driver, 30)\n",
    "    driver.get(product['product_url'])\n",
    "    try:\n",
    "        product_reference = wait.until(EC.presence_of_element_located((By.CSS_SELECTOR, '.product-reference')))\n",
    "        product['ean'] = product_reference.find_element(By.CSS_SELECTOR, 'span').text\n",
    "    except NoSuchElementException:\n",
    "        print(f\"El elemento {product['title']} '.product-reference' no se encuentra en esta página\")\n",
    "        product['ean'] = ''\n",
    "\n",
    "    try:\n",
    "        product['brand'] = driver.find_element(By.CSS_SELECTOR, '.product-manufacturer').find_element(By.CSS_SELECTOR, 'a').text\n",
    "    except NoSuchElementException:\n",
    "        print(f\"El elemento {product['title']} '.product-manufacturer' no se encuentra en esta página\")\n",
    "        product['brand'] = ''\n",
    "        \n",
    "    product['price'] = driver.find_element(By.CSS_SELECTOR, '.current-price').find_element(By.CSS_SELECTOR, 'span').get_attribute('content')\n",
    "    product['currency'] = 'CLP'\n",
    "\n",
    "for product in products:\n",
    "    try:\n",
    "        go_to_product(product)\n",
    "    except Exception as e:\n",
    "        print(f\"Error inesperado producto {product['title']}: {e}\")\n",
    "    "
   ]
  },
  {
   "cell_type": "code",
   "execution_count": 9,
   "id": "2724ba7c-87d2-46b0-be03-97c1fab4f25c",
   "metadata": {},
   "outputs": [
    {
     "name": "stdout",
     "output_type": "stream",
     "text": [
      "[{'image_url': 'https://jardinzoo.cl/1891-home_default/alimento-para-mini-hamster-tropifit-150g.jpg', 'product_url': 'https://jardinzoo.cl/hamster/1686-alimento-para-mini-hamster-tropifit-150g-5900469532126.html', 'title': 'ALIMENTO PARA MINI HAMSTER TROPIFIT 150G', 'price': '3200', 'ean': '5900469532126', 'brand': 'TROPIFIT', 'currency': 'CLP'}, {'image_url': 'https://jardinzoo.cl/7723-home_default/arnes-mini-mascota-m.jpg', 'product_url': 'https://jardinzoo.cl/inicio/4768-arnes-mini-mascota-m-709081031292.html', 'title': 'ARNES MINI MASCOTA M', 'price': '3500', 'ean': '709081031292OU', 'brand': '', 'currency': 'CLP'}, {'image_url': 'https://jardinzoo.cl/8734-home_default/brit-animals-guinea-pig-15kg.jpg', 'product_url': 'https://jardinzoo.cl/cuye-conejillo-de-indias/5196-brit-animals-guinea-pig-15kg-8595602504787.html', 'title': 'BRIT ANIMALS GUINEA PIG 1,5KG', 'price': '20950', 'ean': '8595602504787', 'brand': 'BRIT', 'currency': 'CLP'}, {'image_url': 'https://jardinzoo.cl/9709-home_default/brit-animals-guinea-pig-300-grs.jpg', 'product_url': 'https://jardinzoo.cl/cuye-conejillo-de-indias/5538-brit-animals-guinea-pig-300-grs-8595602504794.html', 'title': 'BRIT ANIMALS GUINEA PIG 300 GRS', 'price': '6100', 'ean': '8595602504794', 'brand': 'BRIT', 'currency': 'CLP'}, {'image_url': 'https://jardinzoo.cl/11007-home_default/brit-animals-hamster-300grs.jpg', 'product_url': 'https://jardinzoo.cl/cuye-conejillo-de-indias/6129-brit-animals-hamster-300grs-8595602504879.html', 'title': 'BRIT ANIMALS HAMSTER 300GRS', 'price': '5550', 'ean': '8595602504879', 'brand': 'BRIT', 'currency': 'CLP'}, {'image_url': 'https://jardinzoo.cl/9711-home_default/brit-animals-rabbit-300-grs.jpg', 'product_url': 'https://jardinzoo.cl/alimentos/5539-brit-animals-rabbit-300-grs-8595602504848.html', 'title': 'BRIT ANIMALS RABBIT 300 GRS', 'price': '5700', 'ean': '8595602504848', 'brand': 'BRIT', 'currency': 'CLP'}, {'image_url': 'https://jardinzoo.cl/6168-home_default/living-world-extrusion-conejo-600g.jpg', 'product_url': 'https://jardinzoo.cl/conejos/3180-living-world-extrusion-conejo-600g-7621779904080.html', 'title': 'HENO HENOLET ALFALFA 100% NATURAL', 'price': '4000', 'ean': '7621779904080', 'brand': '', 'currency': 'CLP'}, {'image_url': 'https://jardinzoo.cl/3653-home_default/jaula-conejera-r1.jpg', 'product_url': 'https://jardinzoo.cl/jaulas-maletas-casas/2886-jaula-conejera-r1-2019.html', 'title': 'JAULA CONEJERA R1', 'price': '23800', 'ean': '2019', 'brand': '', 'currency': 'CLP'}, {'image_url': 'https://jardinzoo.cl/3654-home_default/jaula-conejera-r2.jpg', 'product_url': 'https://jardinzoo.cl/jaulas-maletas-casas/2887-jaula-conejera-r2-2018.html', 'title': 'JAULA CONEJERA R2', 'price': '40900', 'ean': '2018', 'brand': '', 'currency': 'CLP'}, {'image_url': 'https://jardinzoo.cl/10000-home_default/living-world-bano-esquinero-celeste.jpg', 'product_url': 'https://jardinzoo.cl/accesorios-hamster-y-ratitas/5670-544-living-world-bano-esquinero-celeste-80605617629.html#/39-talla-m', 'title': 'LIVING WORLD BAÑO ESQUINERO CELESTE', 'price': '4200', 'ean': '', 'brand': '', 'currency': 'CLP'}, {'image_url': 'https://jardinzoo.cl/9998-home_default/living-world-bano-esquinero-rosado.jpg', 'product_url': 'https://jardinzoo.cl/accesorios-hamster-y-ratitas/5669-546-living-world-bano-esquinero-rosado-80605617605.html#/39-talla-m', 'title': 'LIVING WORLD BAÑO ESQUINERO ROSADO', 'price': '4200', 'ean': '', 'brand': '', 'currency': 'CLP'}, {'image_url': 'https://jardinzoo.cl/3538-home_default/living-world-bebedero-120ml.jpg', 'product_url': 'https://jardinzoo.cl/accesorios-conejos/2070-living-world-bebedero-120ml-80605615304.html', 'title': 'LIVING WORLD BEBEDERO 120ML', 'price': '4200', 'ean': '080605615304', 'brand': 'LIVING WORLD', 'currency': 'CLP'}, {'image_url': 'https://jardinzoo.cl/3539-home_default/living-world-bebedero-475-ml.jpg', 'product_url': 'https://jardinzoo.cl/accesorios-conejos/2803-living-world-bebedero-475-ml-80605615359.html', 'title': 'LIVING WORLD BEBEDERO 235 ML', 'price': '4500', 'ean': '080605615359', 'brand': 'LIVING WORLD', 'currency': 'CLP'}, {'image_url': 'https://jardinzoo.cl/3540-home_default/living-world-bebedero-946-ml.jpg', 'product_url': 'https://jardinzoo.cl/accesorios-conejos/2804-living-world-bebedero-946-ml-80605615403.html', 'title': 'LIVING WORLD BEBEDERO 475ML', 'price': '6800', 'ean': '080605615403', 'brand': 'LIVING WORLD', 'currency': 'CLP'}, {'image_url': 'https://jardinzoo.cl/4469-home_default/living-world-bebedero-946-ml.jpg', 'product_url': 'https://jardinzoo.cl/accesorios-conejos/3481-living-world-bebedero-946-ml-80605615458.html', 'title': 'LIVING WORLD BEBEDERO 946 ML', 'price': '7500', 'ean': '080605615458', 'brand': 'LIVING WORLD', 'currency': 'CLP'}, {'image_url': 'https://jardinzoo.cl/4221-home_default/living-world-bloques-minerales-amarillo.jpg', 'product_url': 'https://jardinzoo.cl/accesorios-conejos/3377-living-world-bloques-minerales-amarillo-80605610224.html', 'title': 'LIVING WORLD BLOQUES MINERALES AMARILLO', 'price': '1800', 'ean': '080605610224', 'brand': 'LIVING WORLD', 'currency': 'CLP'}, {'image_url': 'https://jardinzoo.cl/6468-home_default/living-world-bloques-minerales-amarillo.jpg', 'product_url': 'https://jardinzoo.cl/accesorios-conejos/2055-living-world-bloques-minerales-amarillo-80605610200.html', 'title': 'LIVING WORLD BLOQUES MINERALES AMARILLO', 'price': '1800', 'ean': '080605610200', 'brand': 'LIVING WORLD', 'currency': 'CLP'}, {'image_url': 'https://jardinzoo.cl/7756-home_default/-living-world-chew-nels-170-grs.jpg', 'product_url': 'https://jardinzoo.cl/conejos/4776--living-world-chew-nels-170-grs-80605612228.html', 'title': 'LIVING WORLD CHEW- NELS 170 GRS', 'price': '7500', 'ean': 'LW61223', 'brand': 'LIVING WORLD', 'currency': 'CLP'}, {'image_url': 'https://jardinzoo.cl/4182-home_default/living-world-drops-conejo-zanahoria-75g.jpg', 'product_url': 'https://jardinzoo.cl/conejos/3328-living-world-drops-conejo-zanahoria-75g-80605612228.html', 'title': 'LIVING WORLD CHEW- NELS 70g', 'price': '3800', 'ean': '080605612228', 'brand': 'LIVING WORLD', 'currency': 'CLP'}, {'image_url': 'https://jardinzoo.cl/6431-home_default/corta-unas-le-salon-sm.jpg', 'product_url': 'https://jardinzoo.cl/accesorios-conejos/4391-corta-unas-le-salon-sm-080605666177.html', 'title': 'LIVING WORLD CORTA UÑAS PARA ANIMALES...', 'price': '7200', 'ean': '080605666177', 'brand': 'LIVING WORLD', 'currency': 'CLP'}, {'image_url': 'https://jardinzoo.cl/5998-home_default/living-world-drops-for-rabbits.jpg', 'product_url': 'https://jardinzoo.cl/cuye-conejillo-de-indias/4255-living-world-drops-for-rabbits-80605604063.html', 'title': 'LIVING WORLD DROPS BERRYS PARA CUYE 75G', 'price': '3950', 'ean': '080605604063', 'brand': 'LIVING WORLD', 'currency': 'CLP'}, {'image_url': 'https://jardinzoo.cl/7750-home_default/living-world-drops-conejo-frutos-rojos-75grs.jpg', 'product_url': 'https://jardinzoo.cl/conejos/2063-living-world-drops-conejo-frutos-rojos-75grs-80605605060.html', 'title': 'LIVING WORLD DROPS CONEJO FRUTOS ROJOS 75GRS', 'price': '4000', 'ean': '080605605060', 'brand': 'LIVING WORLD', 'currency': 'CLP'}, {'image_url': 'https://jardinzoo.cl/1332-home_default/living-world-drops-hamster-yogurt-75g.jpg', 'product_url': 'https://jardinzoo.cl/hamster/331-living-world-drops-hamster-yogurt-75g-080605603004.html', 'title': 'LIVING WORLD DROPS HAMSTER YOGURT 75G', 'price': '3000', 'ean': '080605603004', 'brand': 'LIVING WORLD', 'currency': 'CLP'}, {'image_url': 'https://jardinzoo.cl/6165-home_default/living-world-extrusion-conejo-14-kg.jpg', 'product_url': 'https://jardinzoo.cl/conejos/2794-living-world-extrusion-conejo-14-kg-80605605732.html', 'title': 'LIVING WORLD EXTRUSION CONEJO 1,4 KG', 'price': '15900', 'ean': '', 'brand': '', 'currency': 'CLP'}, {'image_url': 'https://jardinzoo.cl/2521-home_default/living-world-extrusion-conejo-600g.jpg', 'product_url': 'https://jardinzoo.cl/conejos/2052-living-world-extrusion-conejo-600g-80605605725.html', 'title': 'LIVING WORLD EXTRUSION CONEJO 600G', 'price': '7900', 'ean': '080605605725', 'brand': 'LIVING WORLD', 'currency': 'CLP'}, {'image_url': 'https://jardinzoo.cl/789-home_default/living-world-extrusion-cuye-14-kg.jpg', 'product_url': 'https://jardinzoo.cl/cuye-conejillo-de-indias/736-living-world-extrusion-cuye-14-kg-80605604636.html', 'title': 'LIVING WORLD EXTRUSION CUYE 1.4 KG', 'price': '15900', 'ean': '', 'brand': '', 'currency': 'CLP'}, {'image_url': 'https://jardinzoo.cl/10769-home_default/living-world-iglu.jpg', 'product_url': 'https://jardinzoo.cl/accesorios-hamster-y-ratitas/6023-556-living-world-iglu-80605617629.html#/39-talla-m', 'title': 'LIVING WORLD IGLU', 'price': '4400', 'ean': '', 'brand': '', 'currency': 'CLP'}, {'image_url': 'https://jardinzoo.cl/3656-home_default/living-world-nibblers-madera.jpg', 'product_url': 'https://jardinzoo.cl/accesorios-conejos/2888-living-world-nibblers-madera-80605614673.html', 'title': 'LIVING WORLD NIBBLERS MADERA', 'price': '6800', 'ean': '080605614673', 'brand': 'LIVING WORLD', 'currency': 'CLP'}, {'image_url': 'https://jardinzoo.cl/915-home_default/living-world-salt-lickstone-50-grs.jpg', 'product_url': 'https://jardinzoo.cl/accesorios-conejos/850-living-world-salt-lickstone-50-grs-080605610118.html', 'title': 'LIVING WORLD SALT LICKSTONE 50 Grs', 'price': '2700', 'ean': '080605610118', 'brand': 'LIVING WORLD', 'currency': 'CLP'}, {'image_url': 'https://jardinzoo.cl/3980-home_default/living-world-extrusion-conejo-600g.jpg', 'product_url': 'https://jardinzoo.cl/sustratos-e-higiene/3187-living-world-extrusion-conejo-600g-80605612624.html', 'title': 'LIVING WORLD SUSTRATO DE PAPEL 20 L', 'price': '22200', 'ean': '080605612624', 'brand': 'LIVING WORLD', 'currency': 'CLP'}, {'image_url': 'https://jardinzoo.cl/5991-home_default/living-world-extrusion-conejo-600g.jpg', 'product_url': 'https://jardinzoo.cl/sustratos-e-higiene/4252-living-world-extrusion-conejo-600g-80605612617.html', 'title': 'LIVING WORLD SUSTRATO DE PAPEL CAFE 10 L', 'price': '12500', 'ean': '080605612617', 'brand': 'LIVING WORLD', 'currency': 'CLP'}, {'image_url': 'https://jardinzoo.cl/2562-home_default/living-world-sustrato-papel-azul.jpg', 'product_url': 'https://jardinzoo.cl/sustratos-e-higiene/2092-living-world-sustrato-papel-azul-80605612655.html', 'title': 'LIVING WORLD SUSTRATO PAPEL AZUL 10 L', 'price': '12500', 'ean': '080605612655', 'brand': 'LIVING WORLD', 'currency': 'CLP'}, {'image_url': 'https://jardinzoo.cl/4007-home_default/living-world-sustrato-papel-azul.jpg', 'product_url': 'https://jardinzoo.cl/sustratos-e-higiene/3202-living-world-sustrato-papel-azul-80605612662.html', 'title': 'LIVING WORLD SUSTRATO PAPEL AZUL 20 L', 'price': '22180', 'ean': '080605612662', 'brand': 'LIVING WORLD', 'currency': 'CLP'}, {'image_url': 'https://jardinzoo.cl/5983-home_default/living-world-sustrato-papel-azul.jpg', 'product_url': 'https://jardinzoo.cl/sustratos-e-higiene/4248-living-world-sustrato-papel-azul-80605612747.html', 'title': 'LIVING WORLD SUSTRATO PAPEL PELLET 10 L', 'price': '13400', 'ean': '080605612747', 'brand': 'LIVING WORLD', 'currency': 'CLP'}, {'image_url': 'https://jardinzoo.cl/6952-home_default/lw-botella-xs-50-ml.jpg', 'product_url': 'https://jardinzoo.cl/accesorios-hamster-y-ratitas/4540-lw-botella-xs-50-ml-080605615250.html', 'title': 'LW BOTELLA XS 50 ML', 'price': '3300', 'ean': '080605615250', 'brand': '', 'currency': 'CLP'}, {'image_url': 'https://jardinzoo.cl/8063-home_default/mazuri-guinea-pig-timothy-diet-1k.jpg', 'product_url': 'https://jardinzoo.cl/cuye-conejillo-de-indias/3810-mazuri-guinea-pig-timothy-diet-1k-742832504140.html', 'title': 'MAZURI GUINEA PIG TIMOTHY DIET 1K', 'price': '10150', 'ean': '0742832504140', 'brand': 'MAZURI', 'currency': 'CLP'}, {'image_url': 'https://jardinzoo.cl/7116-home_default/mazuri-hedgehog-diet-15k.jpg', 'product_url': 'https://jardinzoo.cl/hamster/4583-mazuri-hedgehog-diet-15k-742832770637.html', 'title': 'MAZURI HAMSTER &GERBIL DIET 350 GRS', 'price': '3600', 'ean': '0019213594602', 'brand': 'MAZURI', 'currency': 'CLP'}, {'image_url': 'https://jardinzoo.cl/7754-home_default/mazuri-hedgehog-diet-500gr.jpg', 'product_url': 'https://jardinzoo.cl/erizo-de-tierra/3808-mazuri-hedgehog-diet-500gr-742832504157.html', 'title': 'MAZURI HEDGEHOG DIET 500GR', 'price': '6750', 'ean': '742832504157', 'brand': 'MAZURI', 'currency': 'CLP'}, {'image_url': 'https://jardinzoo.cl/7899-home_default/mazuri-rabbit-diet-25-kg.jpg', 'product_url': 'https://jardinzoo.cl/conejos/4835-mazuri-rabbit-diet-25-kg-019213594756.html', 'title': 'MAZURI RABBIT DIET 2.5 KG', 'price': '24050', 'ean': '019213594756', 'brand': 'MAZURI', 'currency': 'CLP'}, {'image_url': 'https://jardinzoo.cl/5033-home_default/mazuri-timothy-rabbit-diet-1k.jpg', 'product_url': 'https://jardinzoo.cl/alimentos/3807-mazuri-timothy-rabbit-diet-1k-742832504133.html', 'title': 'MAZURI TIMOTHY RABBIT DIET 1K', 'price': '11600', 'ean': '742832504133', 'brand': 'MAZURI', 'currency': 'CLP'}, {'image_url': 'https://jardinzoo.cl/10009-home_default/oxbow-heno-de-avena-425gr.jpg', 'product_url': 'https://jardinzoo.cl/conejos/5674-oxbow-heno-de-avena-425gr-744845402703.html', 'title': 'OXBOW HENO DE AVENA 425GR', 'price': '8400', 'ean': '744845402703', 'brand': '', 'currency': 'CLP'}, {'image_url': 'https://jardinzoo.cl/6171-home_default/oxbow-heno-de-hierba-de-huerto-425-grs.jpg', 'product_url': 'https://jardinzoo.cl/conejos/4312-oxbow-heno-de-hierba-de-huerto-425-grs-7621779904080.html', 'title': 'OXBOW HENO DE HIERBA DE HUERTO 425 GRS', 'price': '8400', 'ean': '744845402956', 'brand': '', 'currency': 'CLP'}, {'image_url': 'https://jardinzoo.cl/5040-home_default/oxbow-heno-western-timothy-425g.jpg', 'product_url': 'https://jardinzoo.cl/roedores/3814-oxbow-heno-western-timothy-425g-744845402253.html', 'title': 'OXBOW HENO WESTERN TIMOTHY 425G', 'price': '8400', 'ean': '744845402253', 'brand': '', 'currency': 'CLP'}, {'image_url': 'https://jardinzoo.cl/6434-home_default/pawise-arnes-small-para-hamster.jpg', 'product_url': 'https://jardinzoo.cl/liquidazoo/4393-pawise-arnes-small-para-hamster.html', 'title': 'PAWISE ARNES LARGE', 'price': '4500', 'ean': '8886467590832OU', 'brand': 'PAWISE', 'currency': 'CLP'}, {'image_url': 'https://jardinzoo.cl/7301-home_default/pellet-ecologico-4kg.jpg', 'product_url': 'https://jardinzoo.cl/sustratos-e-higiene/4664-pellet-ecologico-4kg-781159065521.html', 'title': 'PELLET ECOLOGICO 4KG', 'price': '6700', 'ean': '781159065521', 'brand': '', 'currency': 'CLP'}, {'image_url': 'https://jardinzoo.cl/8093-home_default/sustrato-my-pet-litter-10-l.jpg', 'product_url': 'https://jardinzoo.cl/sustratos-e-higiene/4891-sustrato-my-pet-litter-10-l-019213594619.html', 'title': 'SUSTRATO MY PET LITTER 10 L', 'price': '14100', 'ean': '019213594619', 'brand': '', 'currency': 'CLP'}, {'image_url': 'https://jardinzoo.cl/8094-home_default/sustrato-my-pet-litter-4l.jpg', 'product_url': 'https://jardinzoo.cl/sustratos-e-higiene/4892-sustrato-my-pet-litter-4l-019213594619.html', 'title': 'SUSTRATO MY PET LITTER 4L', 'price': '6400', 'ean': '742832770613', 'brand': '', 'currency': 'CLP'}, {'image_url': 'https://jardinzoo.cl/1890-home_default/alimento-para-hamster-tropifit-500g.jpg', 'product_url': 'https://jardinzoo.cl/hamster/1685-alimento-para-hamster-tropifit-500g-5900469531112.html', 'title': 'ALIMENTO PARA HAMSTER TROPIFIT 500G', 'price': '5900', 'ean': '5900469531112', 'brand': '', 'currency': 'CLP'}, {'image_url': 'https://jardinzoo.cl/9806-home_default/jaula-conejo-full-con-plataforma.jpg', 'product_url': 'https://jardinzoo.cl/jaulas-maletas-casas/5577-jaula-conejo-full-con-plataforma.html', 'title': 'JAULA CONEJO FULL CON PLATAFORMA', 'price': '67700', 'ean': 'S20040', 'brand': '', 'currency': 'CLP'}, {'image_url': 'https://jardinzoo.cl/7749-home_default/living-world-drops-conejo-zanahoria-75g.jpg', 'product_url': 'https://jardinzoo.cl/conejos/3327-living-world-drops-conejo-zanahoria-75g-80605603905.html', 'title': 'LIVING WORLD BITES 75g', 'price': '3800', 'ean': '080605603905', 'brand': 'LIVING WORLD', 'currency': 'CLP'}, {'image_url': 'https://jardinzoo.cl/4181-home_default/living-world-bola-de-ejercicios-small.jpg', 'product_url': 'https://jardinzoo.cl/accesorios-hamster-y-ratitas/322-living-world-bola-de-ejercicios-small-80605617209.html', 'title': 'LIVING WORLD BOLA DE EJERCICIOS SMALL', 'price': '6100', 'ean': '080605617209', 'brand': '', 'currency': 'CLP'}, {'image_url': 'https://jardinzoo.cl/2532-home_default/living-world-drops-conejo-zanahoria-75g.jpg', 'product_url': 'https://jardinzoo.cl/conejos/2064-living-world-drops-conejo-zanahoria-75g-80605605084.html', 'title': 'LIVING WORLD DROPS CONEJO ZANAHORIA 75g', 'price': '4000', 'ean': '080605605084', 'brand': 'LIVING WORLD', 'currency': 'CLP'}, {'image_url': 'https://jardinzoo.cl/6010-home_default/living-world-extrusion-cuye-600g.jpg', 'product_url': 'https://jardinzoo.cl/cuye-conejillo-de-indias/735-living-world-extrusion-cuye-600g-80605604629.html', 'title': 'LIVING WORLD EXTRUSION CUYE 600G', 'price': '7900', 'ean': '', 'brand': '', 'currency': 'CLP'}, {'image_url': 'https://jardinzoo.cl/6432-home_default/pawise-arnes-small-para-hamster.jpg', 'product_url': 'https://jardinzoo.cl/accesorios-hamster-y-ratitas/4392-pawise-arnes-small-para-hamster-8886467590818.html', 'title': 'PAWISE ARNES PARA HAMSTER S', 'price': '6200', 'ean': '8886467590818', 'brand': 'PAWISE', 'currency': 'CLP'}, {'image_url': 'https://jardinzoo.cl/3684-home_default/spikes-alimento-para-erizo-600-grs.jpg', 'product_url': 'https://jardinzoo.cl/erizo-de-tierra/2908-spikes-alimento-para-erizo-600-grs-5033944490106.html', 'title': 'SPIKES ALIMENTO PARA ERIZO 600 GRS', 'price': '6100', 'ean': '5033944490106', 'brand': '', 'currency': 'CLP'}, {'image_url': 'https://jardinzoo.cl/9528-home_default/sustrato-de-papel-asan-petit-10-l.jpg', 'product_url': 'https://jardinzoo.cl/sustratos-e-higiene/5459-sustrato-de-papel-asan-petit-10-l-8594073071170.html', 'title': 'SUSTRATO DE PAPEL ASAN PETIT 10 L', 'price': '7900', 'ean': '8594073071170', 'brand': '', 'currency': 'CLP'}, {'image_url': 'https://jardinzoo.cl/9531-home_default/sustrato-de-papel-asan-petit-42-l.jpg', 'product_url': 'https://jardinzoo.cl/sustratos-e-higiene/5460-sustrato-de-papel-asan-petit-42-l-8594073070166.html', 'title': 'SUSTRATO DE PAPEL ASAN PETIT 42 L', 'price': '35700', 'ean': '8594073070166', 'brand': '', 'currency': 'CLP'}, {'image_url': 'https://jardinzoo.cl/9526-home_default/-sustrato-de-papel-asan-petit-5l.jpg', 'product_url': 'https://jardinzoo.cl/sustratos-e-higiene/5458--sustrato-de-papel-asan-petit-5l-8594073071163.html', 'title': 'SUSTRATO DE PAPEL ASAN PETIT 5L', 'price': '5250', 'ean': '8594073071163', 'brand': '', 'currency': 'CLP'}, {'image_url': 'https://jardinzoo.cl/3534-home_default/tropifit-alimento-cuye-15-kg.jpg', 'product_url': 'https://jardinzoo.cl/cuye-conejillo-de-indias/2799-tropifit-alimento-cuye-15-kg-5900469531266.html', 'title': 'TROPIFIT ALIMENTO CUYE 1.5 KG', 'price': '13300', 'ean': '5900469531266', 'brand': '', 'currency': 'CLP'}, {'image_url': 'https://jardinzoo.cl/1889-home_default/tropifit-alimento-para-conejos-500g.jpg', 'product_url': 'https://jardinzoo.cl/conejos/1684-tropifit-alimento-para-conejos-500g-5900469531310.html', 'title': 'TROPIFIT ALIMENTO PARA CONEJOS 500g', 'price': '5350', 'ean': '5900469531310', 'brand': 'TROPIFIT', 'currency': 'CLP'}, {'image_url': 'https://jardinzoo.cl/1888-home_default/tropifit-alimento-para-erizo-de-tierra-300g.jpg', 'product_url': 'https://jardinzoo.cl/erizo-de-tierra/1683-tropifit-alimento-para-erizo-de-tierra-300g-5900469531815.html', 'title': 'TROPIFIT ALIMENTO PARA ERIZO DE TIERRA 300G', 'price': '6200', 'ean': '5900469531815', 'brand': '', 'currency': 'CLP'}, {'image_url': 'https://jardinzoo.cl/5216-home_default/alimento-para-conejos-tropifit.jpg', 'product_url': 'https://jardinzoo.cl/alimentos/3917-alimento-para-conejos-tropifit-5900469531211.html', 'title': 'TROPIFIT ALIMENTO PARA GUINEA 500g', 'price': '5900', 'ean': '5900469531211', 'brand': 'TROPIFIT', 'currency': 'CLP'}, {'image_url': 'https://jardinzoo.cl/6176-home_default/tropifit-conejo-1-5-kg.jpg', 'product_url': 'https://jardinzoo.cl/conejos/3181-tropifit-conejo-1-5-kg-5900469531365.html', 'title': 'TROPIFIT CONEJO 1. 5 KG', 'price': '15200', 'ean': '5900469531365', 'brand': 'TROPIFIT', 'currency': 'CLP'}, {'image_url': 'https://jardinzoo.cl/3971-home_default/living-world-extrusion-conejo-600g.jpg', 'product_url': 'https://jardinzoo.cl/sustratos-e-higiene/3182-living-world-extrusion-conejo-600g-7804645360023.html', 'title': 'VIRUTA VEGETAL CANAIMA', 'price': '2000', 'ean': '7804645360023', 'brand': '', 'currency': 'CLP'}]\n"
     ]
    }
   ],
   "source": [
    "print(products)"
   ]
  },
  {
   "cell_type": "code",
   "execution_count": 10,
   "id": "465784cf-6fa5-48bb-af5d-f3981a7dff77",
   "metadata": {},
   "outputs": [
    {
     "name": "stdout",
     "output_type": "stream",
     "text": [
      "Archivo JSON generado correctamente.\n"
     ]
    }
   ],
   "source": [
    "with open(f\"{folder}/{fileName}.json\", 'w', encoding='utf-8') as json_file:\n",
    "    json.dump(products, json_file, ensure_ascii=False, indent=4)\n",
    "\n",
    "print(\"Archivo JSON generado correctamente.\")"
   ]
  },
  {
   "cell_type": "code",
   "execution_count": 11,
   "id": "96d36483-053c-47a6-bf98-923fccaea2ea",
   "metadata": {},
   "outputs": [],
   "source": [
    "driver.quit()"
   ]
  }
 ],
 "metadata": {
  "kernelspec": {
   "display_name": "Python 3 (ipykernel)",
   "language": "python",
   "name": "python3"
  },
  "language_info": {
   "codemirror_mode": {
    "name": "ipython",
    "version": 3
   },
   "file_extension": ".py",
   "mimetype": "text/x-python",
   "name": "python",
   "nbconvert_exporter": "python",
   "pygments_lexer": "ipython3",
   "version": "3.12.3"
  }
 },
 "nbformat": 4,
 "nbformat_minor": 5
}
