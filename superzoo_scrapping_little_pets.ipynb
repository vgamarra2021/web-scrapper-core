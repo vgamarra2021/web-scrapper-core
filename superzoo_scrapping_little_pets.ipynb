{
 "cells": [
  {
   "cell_type": "code",
   "execution_count": 1,
   "id": "7a796dd2-2e21-435d-bf68-3490292927b3",
   "metadata": {},
   "outputs": [
    {
     "name": "stdout",
     "output_type": "stream",
     "text": [
      "Requirement already satisfied: selenium-wire in c:\\users\\user\\desktop\\3dsoft2024\\clientes\\scrapping petshot\\scrapping\\scrapping_v1\\lib\\site-packages (from -r requirements.txt (line 1)) (5.1.0)\n",
      "Requirement already satisfied: blinker==1.7.0 in c:\\users\\user\\desktop\\3dsoft2024\\clientes\\scrapping petshot\\scrapping\\scrapping_v1\\lib\\site-packages (from -r requirements.txt (line 2)) (1.7.0)\n",
      "Requirement already satisfied: selenium in c:\\users\\user\\desktop\\3dsoft2024\\clientes\\scrapping petshot\\scrapping\\scrapping_v1\\lib\\site-packages (from -r requirements.txt (line 3)) (4.25.0)\n",
      "Requirement already satisfied: brotli>=1.0.9 in c:\\users\\user\\desktop\\3dsoft2024\\clientes\\scrapping petshot\\scrapping\\scrapping_v1\\lib\\site-packages (from selenium-wire->-r requirements.txt (line 1)) (1.1.0)\n",
      "Requirement already satisfied: certifi>=2019.9.11 in c:\\users\\user\\desktop\\3dsoft2024\\clientes\\scrapping petshot\\scrapping\\scrapping_v1\\lib\\site-packages (from selenium-wire->-r requirements.txt (line 1)) (2024.8.30)\n",
      "Requirement already satisfied: kaitaistruct>=0.7 in c:\\users\\user\\desktop\\3dsoft2024\\clientes\\scrapping petshot\\scrapping\\scrapping_v1\\lib\\site-packages (from selenium-wire->-r requirements.txt (line 1)) (0.10)\n",
      "Requirement already satisfied: pyasn1>=0.3.1 in c:\\users\\user\\desktop\\3dsoft2024\\clientes\\scrapping petshot\\scrapping\\scrapping_v1\\lib\\site-packages (from selenium-wire->-r requirements.txt (line 1)) (0.6.1)\n",
      "Requirement already satisfied: pyOpenSSL>=22.0.0 in c:\\users\\user\\desktop\\3dsoft2024\\clientes\\scrapping petshot\\scrapping\\scrapping_v1\\lib\\site-packages (from selenium-wire->-r requirements.txt (line 1)) (24.2.1)\n",
      "Requirement already satisfied: pyparsing>=2.4.2 in c:\\users\\user\\desktop\\3dsoft2024\\clientes\\scrapping petshot\\scrapping\\scrapping_v1\\lib\\site-packages (from selenium-wire->-r requirements.txt (line 1)) (3.2.0)\n",
      "Requirement already satisfied: pysocks>=1.7.1 in c:\\users\\user\\desktop\\3dsoft2024\\clientes\\scrapping petshot\\scrapping\\scrapping_v1\\lib\\site-packages (from selenium-wire->-r requirements.txt (line 1)) (1.7.1)\n",
      "Requirement already satisfied: wsproto>=0.14 in c:\\users\\user\\desktop\\3dsoft2024\\clientes\\scrapping petshot\\scrapping\\scrapping_v1\\lib\\site-packages (from selenium-wire->-r requirements.txt (line 1)) (1.2.0)\n",
      "Requirement already satisfied: zstandard>=0.14.1 in c:\\users\\user\\desktop\\3dsoft2024\\clientes\\scrapping petshot\\scrapping\\scrapping_v1\\lib\\site-packages (from selenium-wire->-r requirements.txt (line 1)) (0.23.0)\n",
      "Requirement already satisfied: h2>=4.0 in c:\\users\\user\\desktop\\3dsoft2024\\clientes\\scrapping petshot\\scrapping\\scrapping_v1\\lib\\site-packages (from selenium-wire->-r requirements.txt (line 1)) (4.1.0)\n",
      "Requirement already satisfied: hyperframe>=6.0 in c:\\users\\user\\desktop\\3dsoft2024\\clientes\\scrapping petshot\\scrapping\\scrapping_v1\\lib\\site-packages (from selenium-wire->-r requirements.txt (line 1)) (6.0.1)\n",
      "Requirement already satisfied: pydivert>=2.0.3 in c:\\users\\user\\desktop\\3dsoft2024\\clientes\\scrapping petshot\\scrapping\\scrapping_v1\\lib\\site-packages (from selenium-wire->-r requirements.txt (line 1)) (2.1.0)\n",
      "Requirement already satisfied: urllib3<3,>=1.26 in c:\\users\\user\\desktop\\3dsoft2024\\clientes\\scrapping petshot\\scrapping\\scrapping_v1\\lib\\site-packages (from urllib3[socks]<3,>=1.26->selenium->-r requirements.txt (line 3)) (2.2.3)\n",
      "Requirement already satisfied: trio~=0.17 in c:\\users\\user\\desktop\\3dsoft2024\\clientes\\scrapping petshot\\scrapping\\scrapping_v1\\lib\\site-packages (from selenium->-r requirements.txt (line 3)) (0.26.2)\n",
      "Requirement already satisfied: trio-websocket~=0.9 in c:\\users\\user\\desktop\\3dsoft2024\\clientes\\scrapping petshot\\scrapping\\scrapping_v1\\lib\\site-packages (from selenium->-r requirements.txt (line 3)) (0.11.1)\n",
      "Requirement already satisfied: typing_extensions~=4.9 in c:\\users\\user\\desktop\\3dsoft2024\\clientes\\scrapping petshot\\scrapping\\scrapping_v1\\lib\\site-packages (from selenium->-r requirements.txt (line 3)) (4.12.2)\n",
      "Requirement already satisfied: websocket-client~=1.8 in c:\\users\\user\\desktop\\3dsoft2024\\clientes\\scrapping petshot\\scrapping\\scrapping_v1\\lib\\site-packages (from selenium->-r requirements.txt (line 3)) (1.8.0)\n",
      "Requirement already satisfied: hpack<5,>=4.0 in c:\\users\\user\\desktop\\3dsoft2024\\clientes\\scrapping petshot\\scrapping\\scrapping_v1\\lib\\site-packages (from h2>=4.0->selenium-wire->-r requirements.txt (line 1)) (4.0.0)\n",
      "Requirement already satisfied: cryptography<44,>=41.0.5 in c:\\users\\user\\desktop\\3dsoft2024\\clientes\\scrapping petshot\\scrapping\\scrapping_v1\\lib\\site-packages (from pyOpenSSL>=22.0.0->selenium-wire->-r requirements.txt (line 1)) (43.0.1)\n",
      "Requirement already satisfied: attrs>=23.2.0 in c:\\users\\user\\desktop\\3dsoft2024\\clientes\\scrapping petshot\\scrapping\\scrapping_v1\\lib\\site-packages (from trio~=0.17->selenium->-r requirements.txt (line 3)) (24.2.0)\n",
      "Requirement already satisfied: sortedcontainers in c:\\users\\user\\desktop\\3dsoft2024\\clientes\\scrapping petshot\\scrapping\\scrapping_v1\\lib\\site-packages (from trio~=0.17->selenium->-r requirements.txt (line 3)) (2.4.0)\n",
      "Requirement already satisfied: idna in c:\\users\\user\\desktop\\3dsoft2024\\clientes\\scrapping petshot\\scrapping\\scrapping_v1\\lib\\site-packages (from trio~=0.17->selenium->-r requirements.txt (line 3)) (3.10)\n",
      "Requirement already satisfied: outcome in c:\\users\\user\\desktop\\3dsoft2024\\clientes\\scrapping petshot\\scrapping\\scrapping_v1\\lib\\site-packages (from trio~=0.17->selenium->-r requirements.txt (line 3)) (1.3.0.post0)\n",
      "Requirement already satisfied: sniffio>=1.3.0 in c:\\users\\user\\desktop\\3dsoft2024\\clientes\\scrapping petshot\\scrapping\\scrapping_v1\\lib\\site-packages (from trio~=0.17->selenium->-r requirements.txt (line 3)) (1.3.1)\n",
      "Requirement already satisfied: cffi>=1.14 in c:\\users\\user\\desktop\\3dsoft2024\\clientes\\scrapping petshot\\scrapping\\scrapping_v1\\lib\\site-packages (from trio~=0.17->selenium->-r requirements.txt (line 3)) (1.17.1)\n",
      "Requirement already satisfied: h11<1,>=0.9.0 in c:\\users\\user\\desktop\\3dsoft2024\\clientes\\scrapping petshot\\scrapping\\scrapping_v1\\lib\\site-packages (from wsproto>=0.14->selenium-wire->-r requirements.txt (line 1)) (0.14.0)\n",
      "Requirement already satisfied: pycparser in c:\\users\\user\\desktop\\3dsoft2024\\clientes\\scrapping petshot\\scrapping\\scrapping_v1\\lib\\site-packages (from cffi>=1.14->trio~=0.17->selenium->-r requirements.txt (line 3)) (2.22)\n"
     ]
    },
    {
     "name": "stderr",
     "output_type": "stream",
     "text": [
      "\n",
      "[notice] A new release of pip is available: 24.0 -> 24.2\n",
      "[notice] To update, run: python.exe -m pip install --upgrade pip\n"
     ]
    }
   ],
   "source": [
    "!pip install -r requirements.txt"
   ]
  },
  {
   "cell_type": "code",
   "execution_count": 2,
   "id": "6881d8a1-415f-455e-886e-40d7b43e884e",
   "metadata": {},
   "outputs": [],
   "source": [
    "from seleniumwire import webdriver\n",
    "from selenium.webdriver.common.by import By\n",
    "from selenium.webdriver.chrome.service import Service\n",
    "from selenium.webdriver.chrome.options import Options\n",
    "import json\n",
    "from selenium.webdriver.common.keys import Keys\n",
    "from selenium.webdriver.common.action_chains import ActionChains\n",
    "from selenium.webdriver.support.ui import WebDriverWait\n",
    "from selenium.webdriver.support import expected_conditions as EC\n",
    "from seleniumwire.utils import decode"
   ]
  },
  {
   "cell_type": "code",
   "execution_count": 3,
   "id": "74fdb554-363b-465f-b5db-34d6c560fcc7",
   "metadata": {},
   "outputs": [],
   "source": [
    "#Variables\n",
    "website = 'https://www.superzoo.cl/pequenas-mascotas'\n",
    "fileName = 'littlePetsProducts'\n",
    "folder = 'superzoo'"
   ]
  },
  {
   "cell_type": "code",
   "execution_count": 4,
   "id": "ce7a87ac-805f-450d-8cf9-bf9348115615",
   "metadata": {},
   "outputs": [],
   "source": [
    "chrome_options = Options()\n",
    "chrome_options.set_capability('goog:loggingPrefs', {'performance': 'ALL'})\n",
    "chrome_options.add_argument('--auto-open-devtools-for-tabs')\n",
    "chrome_options.add_argument('--no-sandbox')\n",
    "chrome_options.add_argument('--disable-dev-shm-usage')\n",
    "chrome_options.add_argument('--disable_encoding')\n",
    "\n",
    "driver = webdriver.Chrome(options=chrome_options)\n",
    "\n",
    "driver.execute_cdp_cmd(\"Network.enable\", {})\n",
    "\n",
    "driver.get(website)"
   ]
  },
  {
   "cell_type": "code",
   "execution_count": 5,
   "id": "901bbde2-efe7-44bb-bc83-172e18df9b15",
   "metadata": {},
   "outputs": [],
   "source": [
    "#Products\n",
    "products = []"
   ]
  },
  {
   "cell_type": "code",
   "execution_count": 6,
   "id": "7504a3f5-73f0-412e-95a5-6f05c7b2ce62",
   "metadata": {},
   "outputs": [],
   "source": [
    "from selenium.common.exceptions import NoSuchElementException, StaleElementReferenceException\n",
    "import time\n",
    "import random\n",
    "\n",
    "def scan_products():\n",
    "    products_by_category = wait.until(EC.presence_of_all_elements_located((By.CSS_SELECTOR, '.product')))\n",
    "    for product in products_by_category:\n",
    "        products.append({\n",
    "            'image_url': product.find_element(By.CSS_SELECTOR, '.image-container').find_element(By.CSS_SELECTOR, 'img').get_attribute('src'),\n",
    "            'product_url': product.find_element(By.CSS_SELECTOR, '.image-container').find_element(By.CSS_SELECTOR, 'a').get_attribute('href'),\n",
    "            'brand': product.find_element(By.CSS_SELECTOR, '.pdp-brand').find_element(By.CSS_SELECTOR, '.product-brand').text,\n",
    "            'description': product.find_element(By.CSS_SELECTOR, '.pdp-link').find_element(By.CSS_SELECTOR, '.text-base').text,\n",
    "        })\n",
    "\n",
    "wait = WebDriverWait(driver, 30)  \n",
    "scan_products()"
   ]
  },
  {
   "cell_type": "code",
   "execution_count": 7,
   "id": "7d724bcb-e477-456c-90a8-3c3f16e41fec",
   "metadata": {},
   "outputs": [
    {
     "name": "stdout",
     "output_type": "stream",
     "text": [
      "[{'image_url': 'https://www.superzoo.cl/on/demandware.static/-/Sites-SuperZoo-master-catalog/default/dwe1b02519/images/b46e6-ac-11.jpg', 'product_url': 'https://www.superzoo.cl/pequenas-mascotas/mamiferos-pequenos/timothy-rabbit-diet/5336_m.html', 'brand': 'Mazuri', 'description': 'Timothy Rabbit Diet'}, {'image_url': 'https://www.superzoo.cl/on/demandware.static/-/Sites-SuperZoo-master-catalog/default/dwcebaa38b/images/46347-sustrato-carefresh-confetti.jpg', 'product_url': 'https://www.superzoo.cl/pequenas-mascotas/mamiferos-pequenos/sustrato-carefresh-confetti-10-lt/9252.html', 'brand': 'Healthypet', 'description': 'Sustrato carefresh confetti 10 LT'}, {'image_url': 'https://www.superzoo.cl/on/demandware.static/-/Sites-SuperZoo-master-catalog/default/dw2e2f47b5/images/12593-sustrato-grande-1-1.jpg', 'product_url': 'https://www.superzoo.cl/pequenas-mascotas/mamiferos-pequenos/my-pet-litter/5330_m.html', 'brand': 'Zupet', 'description': 'My Pet Litter'}, {'image_url': 'https://www.superzoo.cl/on/demandware.static/-/Sites-SuperZoo-master-catalog/default/dwe6081d49/images/7190c-diseno-sin-titulo.png', 'product_url': 'https://www.superzoo.cl/pequenas-mascotas/mamiferos-pequenos/mpets-botella-de-vidrio-para-pequenas-mascotas-350ml/9643.html', 'brand': 'Mpets', 'description': 'Mpets botella de vidrio para pequeñas mascotas 350ML'}]\n"
     ]
    }
   ],
   "source": [
    "print(products)"
   ]
  },
  {
   "cell_type": "code",
   "execution_count": 8,
   "id": "17524ed2-da75-49e7-80ca-d16c7fce086f",
   "metadata": {},
   "outputs": [
    {
     "name": "stdout",
     "output_type": "stream",
     "text": [
      "https://www.superzoo.cl/on/demandware.store/Sites-SuperZoo-Site/es_CL/Product-Variation?dwvar_5336__m_Variation-ML_Peso=2,5%20KG&pid=5336_m&quantity=1\n",
      "https://www.superzoo.cl/on/demandware.store/Sites-SuperZoo-Site/es_CL/Product-Variation?dwvar_5336__m_Variation-ML_Peso=2,5%20KG&pid=5336_m&quantity=1\n",
      "https://www.superzoo.cl/on/demandware.store/Sites-SuperZoo-Site/es_CL/Product-Variation?dwvar_5336__m_Variation-ML_Peso=2,5%20KG&pid=5336_m&quantity=1\n",
      "https://www.superzoo.cl/on/demandware.store/Sites-SuperZoo-Site/es_CL/Product-Variation?dwvar_5330__m_Formato=10LT&pid=5330_m&quantity=1\n",
      "https://www.superzoo.cl/on/demandware.store/Sites-SuperZoo-Site/es_CL/Product-Variation?dwvar_5336__m_Variation-ML_Peso=2,5%20KG&pid=5336_m&quantity=1\n",
      "https://www.superzoo.cl/on/demandware.store/Sites-SuperZoo-Site/es_CL/Product-Variation?dwvar_5330__m_Formato=10LT&pid=5330_m&quantity=1\n"
     ]
    }
   ],
   "source": [
    "for product in products:\n",
    "    driver.get(product['product_url'])\n",
    "    wait.until(EC.presence_of_element_located((By.CSS_SELECTOR, '.carousel-item')))\n",
    "    \n",
    "    for request in driver.requests:\n",
    "        if request.response and (\"superzoo\" in request.url):\n",
    "            response = request.response\n",
    "            if(response.headers['content-type'] == 'application/json'):\n",
    "                body = json.loads(decode(response.body, response.headers.get('Content-Encoding', 'identity')))\n",
    "                action = body.get('action')\n",
    "                if action and action == \"Product-Variation\":\n",
    "                    print (request.url)\n",
    "                    itemProduct = body.get('product')\n",
    "                    product['ean'] = itemProduct.get('ean')\n",
    "                    product['name'] = itemProduct.get('productName')\n",
    "                    product['brand'] = itemProduct.get('brand')\n",
    "                    product['product_weight'] = itemProduct.get('productWeight')\n",
    "                    product['item_category'] = itemProduct.get('itemCategory')\n",
    "                    price_info = itemProduct.get('price', {})\n",
    "                    sales_price = price_info.get('sales', {})\n",
    "                    if sales_price:\n",
    "                        product['price'] = sales_price.get('value')\n",
    "                        product['currency'] = sales_price.get('currency')"
   ]
  },
  {
   "cell_type": "code",
   "execution_count": 9,
   "id": "b19463d8-1cb5-4502-ae82-46259c518b5a",
   "metadata": {},
   "outputs": [
    {
     "name": "stdout",
     "output_type": "stream",
     "text": [
      "[{'image_url': 'https://www.superzoo.cl/on/demandware.static/-/Sites-SuperZoo-master-catalog/default/dwe1b02519/images/b46e6-ac-11.jpg', 'product_url': 'https://www.superzoo.cl/pequenas-mascotas/mamiferos-pequenos/timothy-rabbit-diet/5336_m.html', 'brand': 'Mazuri', 'description': 'Timothy Rabbit Diet', 'ean': '62196407371000', 'name': 'Timothy Rabbit Diet', 'product_weight': 2.5, 'item_category': 'mamiferos', 'price': 22672, 'currency': 'CLP'}, {'image_url': 'https://www.superzoo.cl/on/demandware.static/-/Sites-SuperZoo-master-catalog/default/dwcebaa38b/images/46347-sustrato-carefresh-confetti.jpg', 'product_url': 'https://www.superzoo.cl/pequenas-mascotas/mamiferos-pequenos/sustrato-carefresh-confetti-10-lt/9252.html', 'brand': 'Mazuri', 'description': 'Sustrato carefresh confetti 10 LT', 'ean': '62196407371000', 'name': 'Timothy Rabbit Diet', 'product_weight': 2.5, 'item_category': 'mamiferos', 'price': 22672, 'currency': 'CLP'}, {'image_url': 'https://www.superzoo.cl/on/demandware.static/-/Sites-SuperZoo-master-catalog/default/dw2e2f47b5/images/12593-sustrato-grande-1-1.jpg', 'product_url': 'https://www.superzoo.cl/pequenas-mascotas/mamiferos-pequenos/my-pet-litter/5330_m.html', 'brand': 'Zupet', 'description': 'My Pet Litter', 'ean': '19213594619', 'name': 'My Pet Litter', 'product_weight': 0.5, 'item_category': 'mamiferos', 'price': 12142, 'currency': 'CLP'}, {'image_url': 'https://www.superzoo.cl/on/demandware.static/-/Sites-SuperZoo-master-catalog/default/dwe6081d49/images/7190c-diseno-sin-titulo.png', 'product_url': 'https://www.superzoo.cl/pequenas-mascotas/mamiferos-pequenos/mpets-botella-de-vidrio-para-pequenas-mascotas-350ml/9643.html', 'brand': 'Zupet', 'description': 'Mpets botella de vidrio para pequeñas mascotas 350ML', 'ean': '19213594619', 'name': 'My Pet Litter', 'product_weight': 0.5, 'item_category': 'mamiferos', 'price': 12142, 'currency': 'CLP'}]\n"
     ]
    }
   ],
   "source": [
    "print(products)"
   ]
  },
  {
   "cell_type": "code",
   "execution_count": 10,
   "id": "465784cf-6fa5-48bb-af5d-f3981a7dff77",
   "metadata": {},
   "outputs": [
    {
     "name": "stdout",
     "output_type": "stream",
     "text": [
      "Archivo JSON generado correctamente.\n"
     ]
    }
   ],
   "source": [
    "with open(f\"{folder}/{fileName}.json\", 'w', encoding='utf-8') as json_file:\n",
    "    json.dump(products, json_file, ensure_ascii=False, indent=4)\n",
    "\n",
    "print(\"Archivo JSON generado correctamente.\")"
   ]
  },
  {
   "cell_type": "code",
   "execution_count": 11,
   "id": "96d36483-053c-47a6-bf98-923fccaea2ea",
   "metadata": {},
   "outputs": [],
   "source": [
    "driver.quit()"
   ]
  }
 ],
 "metadata": {
  "kernelspec": {
   "display_name": "Python 3 (ipykernel)",
   "language": "python",
   "name": "python3"
  },
  "language_info": {
   "codemirror_mode": {
    "name": "ipython",
    "version": 3
   },
   "file_extension": ".py",
   "mimetype": "text/x-python",
   "name": "python",
   "nbconvert_exporter": "python",
   "pygments_lexer": "ipython3",
   "version": "3.12.3"
  }
 },
 "nbformat": 4,
 "nbformat_minor": 5
}
