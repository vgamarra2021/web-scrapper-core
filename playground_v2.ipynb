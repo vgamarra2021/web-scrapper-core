{
 "cells": [
  {
   "cell_type": "code",
   "execution_count": null,
   "metadata": {},
   "outputs": [],
   "source": [
    "from seleniumwire import webdriver\n",
    "from selenium.webdriver.common.by import By\n",
    "from selenium.webdriver.chrome.service import Service\n",
    "from selenium.webdriver.chrome.options import Options\n",
    "import json\n",
    "from selenium.webdriver.common.keys import Keys\n",
    "from selenium.webdriver.common.action_chains import ActionChains\n",
    "from selenium.webdriver.support.ui import WebDriverWait\n",
    "from selenium.webdriver.support import expected_conditions as EC\n",
    "from seleniumwire.utils import decode"
   ]
  },
  {
   "cell_type": "code",
   "execution_count": null,
   "metadata": {},
   "outputs": [],
   "source": [
    "chrome_options = Options()\n",
    "chrome_options.set_capability('goog:loggingPrefs', {'performance': 'ALL'})\n",
    "chrome_options.add_argument('--auto-open-devtools-for-tabs')\n",
    "chrome_options.add_argument('--no-sandbox')\n",
    "chrome_options.add_argument('--disable-dev-shm-usage')\n",
    "chrome_options.add_argument('--disable_encoding')\n",
    "\n",
    "driver = webdriver.Chrome(options=chrome_options)\n",
    "\n",
    "driver.execute_cdp_cmd(\"Network.enable\", {})\n",
    "\n",
    "wait = WebDriverWait(driver, 120)"
   ]
  },
  {
   "cell_type": "code",
   "execution_count": null,
   "metadata": {},
   "outputs": [],
   "source": [
    "#Get Data\n",
    "import json\n",
    "import inspect\n",
    "\n",
    "def read_data(route):\n",
    "    try:\n",
    "        with open(f'{route}.json', 'r', encoding='utf-8') as file:\n",
    "            return json.load(file)\n",
    "    except Exception as e:\n",
    "        print(f'Error al decodificar archivo: {route}')\n",
    "        return []\n",
    "\n",
    "def filter_data(data, name):\n",
    "    filtered_list = list(filter(lambda item: 'ean' in item and item['ean'] != \"\" and item['ean'] != \"-\" and 'price' in item and item['price'] != \"\", data))\n",
    "    print(f'{len(filtered_list)} Productos con ean y price -> En {name} de {len(data)}')\n",
    "    #return filtered_list\n",
    "\n",
    "jardinzoo_dogs = read_data('jardinzoo/dogsProducts')\n",
    "jardinzoo_cats = read_data('jardinzoo/catsProducts')\n"
   ]
  },
  {
   "cell_type": "code",
   "execution_count": null,
   "metadata": {},
   "outputs": [],
   "source": [
    "dogs_without_ean = list(filter(lambda item: item['ean'] == \"\" or item['price'] == \"\", jardinzoo_dogs))\n",
    "cats_without_ean = list(filter(lambda item: item['ean'] == \"\" or item['price'] == \"\", jardinzoo_cats))"
   ]
  },
  {
   "cell_type": "code",
   "execution_count": null,
   "metadata": {},
   "outputs": [],
   "source": [
    "from selenium.common.exceptions import NoSuchElementException\n",
    "\n",
    "def go_to_product(product):\n",
    "    wait = WebDriverWait(driver, 120)\n",
    "    driver.get(product['product_url'])\n",
    "    \n",
    "    try:\n",
    "        product_tab_reference = wait.until(\n",
    "            EC.presence_of_element_located(\n",
    "                (By.XPATH, \"//a[contains(text(), 'Detalles del producto')]\")\n",
    "            )\n",
    "        )\n",
    "        product_tab_reference.click()\n",
    "    except NoSuchElementException:\n",
    "        print(f\"No se encontró ean oculto en {product['title']}\")\n",
    "        \n",
    "    try:\n",
    "        wait.until(EC.visibility_of_element_located((By.CSS_SELECTOR, '.product-reference')))\n",
    "        product_reference = wait.until(EC.presence_of_element_located((By.CSS_SELECTOR, '.product-reference')))\n",
    "        product['ean'] = product_reference.find_element(By.CSS_SELECTOR, 'span').text\n",
    "    except NoSuchElementException:\n",
    "        print(f\"La referencia no se encontró en el producto: {product['title']}\")\n",
    "        product['ean'] = ''\n",
    "\n",
    "    try:\n",
    "        product['brand'] = driver.find_element(By.CSS_SELECTOR, '.product-manufacturer').find_element(By.CSS_SELECTOR, 'a').text\n",
    "    except NoSuchElementException:\n",
    "        print(f\"La marca no se encontró en el producto {product['title']}\")\n",
    "        product['brand'] = ''\n",
    "    \n",
    "    product['price'] = driver.find_element(By.CSS_SELECTOR, '.current-price').find_element(By.CSS_SELECTOR, 'span').get_attribute('content')\n",
    "    product['currency'] = 'CLP'\n",
    "\n",
    "for product in cats_without_ean:\n",
    "    try:\n",
    "        go_to_product(product)\n",
    "    except Exception as e:\n",
    "        print(f\"Error inesperado producto {product['title']}: {e}\")"
   ]
  },
  {
   "cell_type": "code",
   "execution_count": null,
   "metadata": {},
   "outputs": [],
   "source": [
    "print(cats_without_ean)"
   ]
  },
  {
   "cell_type": "code",
   "execution_count": null,
   "metadata": {},
   "outputs": [],
   "source": [
    "with open(f\"cats_without_ean.json\", 'w', encoding='utf-8') as json_file:\n",
    "    json.dump(cats_without_ean, json_file, ensure_ascii=False, indent=4)\n",
    "\n",
    "print(\"Archivo JSON generado correctamente.\")"
   ]
  }
 ],
 "metadata": {
  "kernelspec": {
   "display_name": "scrapping_v1",
   "language": "python",
   "name": "python3"
  },
  "language_info": {
   "codemirror_mode": {
    "name": "ipython",
    "version": 3
   },
   "file_extension": ".py",
   "mimetype": "text/x-python",
   "name": "python",
   "nbconvert_exporter": "python",
   "pygments_lexer": "ipython3",
   "version": "3.12.3"
  }
 },
 "nbformat": 4,
 "nbformat_minor": 2
}
