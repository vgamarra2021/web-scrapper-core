{
 "cells": [
  {
   "cell_type": "code",
   "execution_count": null,
   "id": "7a796dd2-2e21-435d-bf68-3490292927b3",
   "metadata": {},
   "outputs": [],
   "source": [
    "%pip install --upgrade setuptools\n",
    "%pip install -r requirements.txt"
   ]
  },
  {
   "cell_type": "code",
   "execution_count": null,
   "id": "6881d8a1-415f-455e-886e-40d7b43e884e",
   "metadata": {},
   "outputs": [],
   "source": [
    "from seleniumwire import webdriver\n",
    "from selenium.webdriver.common.by import By\n",
    "from selenium.webdriver.chrome.service import Service\n",
    "from selenium.webdriver.chrome.options import Options\n",
    "import json\n",
    "from selenium.webdriver.common.keys import Keys\n",
    "from selenium.webdriver.common.action_chains import ActionChains\n",
    "from selenium.webdriver.support.ui import WebDriverWait\n",
    "from selenium.webdriver.support import expected_conditions as EC\n",
    "from seleniumwire.utils import decode"
   ]
  },
  {
   "cell_type": "code",
   "execution_count": null,
   "id": "74fdb554-363b-465f-b5db-34d6c560fcc7",
   "metadata": {},
   "outputs": [],
   "source": [
    "#Variables\n",
    "website = 'https://www.superzoo.cl/perro'\n",
    "fileName = 'dogsProducts'\n",
    "folder = 'superzoo'"
   ]
  },
  {
   "cell_type": "code",
   "execution_count": null,
   "id": "ce7a87ac-805f-450d-8cf9-bf9348115615",
   "metadata": {},
   "outputs": [],
   "source": [
    "chrome_options = Options()\n",
    "chrome_options.set_capability('goog:loggingPrefs', {'performance': 'ALL'})\n",
    "chrome_options.add_argument('--auto-open-devtools-for-tabs')\n",
    "chrome_options.add_argument('--no-sandbox')\n",
    "chrome_options.add_argument('--disable-dev-shm-usage')\n",
    "chrome_options.add_argument('--disable_encoding')\n",
    "\n",
    "driver = webdriver.Chrome(options=chrome_options)\n",
    "\n",
    "driver.execute_cdp_cmd(\"Network.enable\", {})\n",
    "\n",
    "driver.get(website)"
   ]
  },
  {
   "cell_type": "code",
   "execution_count": null,
   "id": "901bbde2-efe7-44bb-bc83-172e18df9b15",
   "metadata": {},
   "outputs": [],
   "source": [
    "#Products\n",
    "products = []\n",
    "\n",
    "#Categories\n",
    "categories = []"
   ]
  },
  {
   "cell_type": "code",
   "execution_count": null,
   "id": "0bd0edc6-a76d-4f45-abd9-a76e08c7eb82",
   "metadata": {},
   "outputs": [],
   "source": [
    "from selenium.common.exceptions import NoSuchElementException, StaleElementReferenceException\n",
    "import time\n",
    "import random\n",
    "\n",
    "def scan_products():\n",
    "    products_by_category = wait.until(EC.presence_of_all_elements_located((By.CSS_SELECTOR, '.product-tile')))\n",
    "    for product in products_by_category:\n",
    "        products.append({\n",
    "            'image_url': product.find_element(By.CSS_SELECTOR, '.image-container').find_element(By.CSS_SELECTOR, 'img').get_attribute('src'),\n",
    "            'product_url': product.find_element(By.CSS_SELECTOR, '.pdp-link').find_element(By.CSS_SELECTOR, '.link').get_attribute('href'),\n",
    "            'brand': product.find_element(By.CSS_SELECTOR, '.pdp-brand').find_element(By.CSS_SELECTOR, '.product-brand').text,\n",
    "            'description': product.find_element(By.CSS_SELECTOR, '.pdp-link').find_element(By.CSS_SELECTOR, '.text-base').text,\n",
    "        })\n",
    "\n",
    "def go_to_next_page():\n",
    "    try:\n",
    "        next_button = wait.until(EC.presence_of_element_located((By.CSS_SELECTOR, '.show-more .text-center .btn')))\n",
    "        driver.execute_script(\"arguments[0].scrollIntoView(true);\", next_button)\n",
    "        driver.execute_script(\"arguments[0].click();\", next_button)\n",
    "        wait.until(EC.staleness_of(next_button))\n",
    "        time.sleep(random.uniform(3, 10))\n",
    "        return True\n",
    "    except NoSuchElementException:\n",
    "        print(\"Botón 'next' no encontrado, final de la paginación.\")\n",
    "        return False\n",
    "    except StaleElementReferenceException:\n",
    "        print(\"El botón 'next' ya no es válido en el DOM.\")\n",
    "        time.sleep(2)\n",
    "        return go_to_next_page()\n",
    "\n",
    "def go_to_category(category):\n",
    "    print(f\"Category {category['title']} ...\")\n",
    "    wait = WebDriverWait(driver, 30)\n",
    "    driver.get(category['url'])\n",
    "    flag = True\n",
    "    while(flag):\n",
    "        try:\n",
    "            flag = go_to_next_page()\n",
    "            if not flag:\n",
    "                scan_products()\n",
    "        except Exception as e:\n",
    "            print(f\"Error inesperado: {e}\")\n",
    "            scan_products()\n",
    "            flag = False\n",
    "\n",
    "wait = WebDriverWait(driver, 30)  \n",
    "category_items = wait.until(EC.presence_of_all_elements_located((By.CSS_SELECTOR, '.category-item')))\n",
    "\n",
    "for item in category_items:\n",
    "    categories.append({\n",
    "        'url': item.find_element(By.CSS_SELECTOR, 'a').get_attribute('href'),\n",
    "        'title': item.find_element(By.CSS_SELECTOR, '.category-tile').find_element(By.CSS_SELECTOR, 'p').text\n",
    "    })\n",
    "    \n",
    "for category in categories:\n",
    "    go_to_category(category)\n",
    "    time.sleep(random.uniform(5, 10))\n",
    "    \n",
    "                "
   ]
  },
  {
   "cell_type": "code",
   "execution_count": null,
   "id": "7d724bcb-e477-456c-90a8-3c3f16e41fec",
   "metadata": {},
   "outputs": [],
   "source": [
    "print(products)"
   ]
  },
  {
   "cell_type": "code",
   "execution_count": null,
   "id": "17524ed2-da75-49e7-80ca-d16c7fce086f",
   "metadata": {},
   "outputs": [],
   "source": [
    "for product in products:\n",
    "    driver.get(product['product_url'])\n",
    "    wait.until(EC.presence_of_element_located((By.CSS_SELECTOR, '.carousel-item')))\n",
    "    \n",
    "    for request in driver.requests:\n",
    "        if request.response and (\"superzoo\" in request.url):\n",
    "            response = request.response\n",
    "            if(response.headers['content-type'] == 'application/json'):\n",
    "                body = json.loads(decode(response.body, response.headers.get('Content-Encoding', 'identity')))\n",
    "                action = body.get('action')\n",
    "                if action and action == \"Product-Variation\":\n",
    "                    print (request.url)\n",
    "                    itemProduct = body.get('product')\n",
    "                    product['ean'] = itemProduct.get('ean')\n",
    "                    product['name'] = itemProduct.get('productName')\n",
    "                    product['brand'] = itemProduct.get('brand')\n",
    "                    product['product_weight'] = itemProduct.get('productWeight')\n",
    "                    product['item_category'] = itemProduct.get('itemCategory')\n",
    "                    price_info = itemProduct.get('price', {})\n",
    "                    sales_price = price_info.get('sales', {})\n",
    "                    if sales_price:\n",
    "                        product['price'] = sales_price.get('value')\n",
    "                        product['currency'] = sales_price.get('currency')"
   ]
  },
  {
   "cell_type": "code",
   "execution_count": null,
   "id": "b19463d8-1cb5-4502-ae82-46259c518b5a",
   "metadata": {},
   "outputs": [],
   "source": [
    "print(products)"
   ]
  },
  {
   "cell_type": "code",
   "execution_count": null,
   "id": "465784cf-6fa5-48bb-af5d-f3981a7dff77",
   "metadata": {},
   "outputs": [],
   "source": [
    "with open(f\"{folder}/{fileName}.json\", 'w', encoding='utf-8') as json_file:\n",
    "    json.dump(products, json_file, ensure_ascii=False, indent=4)\n",
    "\n",
    "print(\"Archivo JSON generado correctamente.\")"
   ]
  },
  {
   "cell_type": "code",
   "execution_count": null,
   "id": "96d36483-053c-47a6-bf98-923fccaea2ea",
   "metadata": {},
   "outputs": [],
   "source": [
    "driver.quit()"
   ]
  }
 ],
 "metadata": {
  "kernelspec": {
   "display_name": "Python 3 (ipykernel)",
   "language": "python",
   "name": "python3"
  },
  "language_info": {
   "codemirror_mode": {
    "name": "ipython",
    "version": 3
   },
   "file_extension": ".py",
   "mimetype": "text/x-python",
   "name": "python",
   "nbconvert_exporter": "python",
   "pygments_lexer": "ipython3",
   "version": "3.12.3"
  }
 },
 "nbformat": 4,
 "nbformat_minor": 5
}
