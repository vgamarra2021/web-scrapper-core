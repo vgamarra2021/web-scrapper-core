{
 "cells": [
  {
   "cell_type": "code",
   "execution_count": 1,
   "id": "7a796dd2-2e21-435d-bf68-3490292927b3",
   "metadata": {},
   "outputs": [
    {
     "name": "stdout",
     "output_type": "stream",
     "text": [
      "Requirement already satisfied: selenium-wire in c:\\users\\user\\desktop\\3dsoft2024\\clientes\\scrapping petshot\\scrapping\\scrapping_v1\\lib\\site-packages (from -r requirements.txt (line 1)) (5.1.0)"
     ]
    },
    {
     "name": "stderr",
     "output_type": "stream",
     "text": [
      "\n",
      "[notice] A new release of pip is available: 24.0 -> 24.2\n",
      "[notice] To update, run: python.exe -m pip install --upgrade pip\n"
     ]
    },
    {
     "name": "stdout",
     "output_type": "stream",
     "text": [
      "\n",
      "Requirement already satisfied: blinker==1.7.0 in c:\\users\\user\\desktop\\3dsoft2024\\clientes\\scrapping petshot\\scrapping\\scrapping_v1\\lib\\site-packages (from -r requirements.txt (line 2)) (1.7.0)\n",
      "Requirement already satisfied: selenium in c:\\users\\user\\desktop\\3dsoft2024\\clientes\\scrapping petshot\\scrapping\\scrapping_v1\\lib\\site-packages (from -r requirements.txt (line 3)) (4.25.0)\n",
      "Requirement already satisfied: brotli>=1.0.9 in c:\\users\\user\\desktop\\3dsoft2024\\clientes\\scrapping petshot\\scrapping\\scrapping_v1\\lib\\site-packages (from selenium-wire->-r requirements.txt (line 1)) (1.1.0)\n",
      "Requirement already satisfied: certifi>=2019.9.11 in c:\\users\\user\\desktop\\3dsoft2024\\clientes\\scrapping petshot\\scrapping\\scrapping_v1\\lib\\site-packages (from selenium-wire->-r requirements.txt (line 1)) (2024.8.30)\n",
      "Requirement already satisfied: kaitaistruct>=0.7 in c:\\users\\user\\desktop\\3dsoft2024\\clientes\\scrapping petshot\\scrapping\\scrapping_v1\\lib\\site-packages (from selenium-wire->-r requirements.txt (line 1)) (0.10)\n",
      "Requirement already satisfied: pyasn1>=0.3.1 in c:\\users\\user\\desktop\\3dsoft2024\\clientes\\scrapping petshot\\scrapping\\scrapping_v1\\lib\\site-packages (from selenium-wire->-r requirements.txt (line 1)) (0.6.1)\n",
      "Requirement already satisfied: pyOpenSSL>=22.0.0 in c:\\users\\user\\desktop\\3dsoft2024\\clientes\\scrapping petshot\\scrapping\\scrapping_v1\\lib\\site-packages (from selenium-wire->-r requirements.txt (line 1)) (24.2.1)\n",
      "Requirement already satisfied: pyparsing>=2.4.2 in c:\\users\\user\\desktop\\3dsoft2024\\clientes\\scrapping petshot\\scrapping\\scrapping_v1\\lib\\site-packages (from selenium-wire->-r requirements.txt (line 1)) (3.2.0)\n",
      "Requirement already satisfied: pysocks>=1.7.1 in c:\\users\\user\\desktop\\3dsoft2024\\clientes\\scrapping petshot\\scrapping\\scrapping_v1\\lib\\site-packages (from selenium-wire->-r requirements.txt (line 1)) (1.7.1)\n",
      "Requirement already satisfied: wsproto>=0.14 in c:\\users\\user\\desktop\\3dsoft2024\\clientes\\scrapping petshot\\scrapping\\scrapping_v1\\lib\\site-packages (from selenium-wire->-r requirements.txt (line 1)) (1.2.0)\n",
      "Requirement already satisfied: zstandard>=0.14.1 in c:\\users\\user\\desktop\\3dsoft2024\\clientes\\scrapping petshot\\scrapping\\scrapping_v1\\lib\\site-packages (from selenium-wire->-r requirements.txt (line 1)) (0.23.0)\n",
      "Requirement already satisfied: h2>=4.0 in c:\\users\\user\\desktop\\3dsoft2024\\clientes\\scrapping petshot\\scrapping\\scrapping_v1\\lib\\site-packages (from selenium-wire->-r requirements.txt (line 1)) (4.1.0)\n",
      "Requirement already satisfied: hyperframe>=6.0 in c:\\users\\user\\desktop\\3dsoft2024\\clientes\\scrapping petshot\\scrapping\\scrapping_v1\\lib\\site-packages (from selenium-wire->-r requirements.txt (line 1)) (6.0.1)\n",
      "Requirement already satisfied: pydivert>=2.0.3 in c:\\users\\user\\desktop\\3dsoft2024\\clientes\\scrapping petshot\\scrapping\\scrapping_v1\\lib\\site-packages (from selenium-wire->-r requirements.txt (line 1)) (2.1.0)\n",
      "Requirement already satisfied: urllib3<3,>=1.26 in c:\\users\\user\\desktop\\3dsoft2024\\clientes\\scrapping petshot\\scrapping\\scrapping_v1\\lib\\site-packages (from urllib3[socks]<3,>=1.26->selenium->-r requirements.txt (line 3)) (2.2.3)\n",
      "Requirement already satisfied: trio~=0.17 in c:\\users\\user\\desktop\\3dsoft2024\\clientes\\scrapping petshot\\scrapping\\scrapping_v1\\lib\\site-packages (from selenium->-r requirements.txt (line 3)) (0.26.2)\n",
      "Requirement already satisfied: trio-websocket~=0.9 in c:\\users\\user\\desktop\\3dsoft2024\\clientes\\scrapping petshot\\scrapping\\scrapping_v1\\lib\\site-packages (from selenium->-r requirements.txt (line 3)) (0.11.1)\n",
      "Requirement already satisfied: typing_extensions~=4.9 in c:\\users\\user\\desktop\\3dsoft2024\\clientes\\scrapping petshot\\scrapping\\scrapping_v1\\lib\\site-packages (from selenium->-r requirements.txt (line 3)) (4.12.2)\n",
      "Requirement already satisfied: websocket-client~=1.8 in c:\\users\\user\\desktop\\3dsoft2024\\clientes\\scrapping petshot\\scrapping\\scrapping_v1\\lib\\site-packages (from selenium->-r requirements.txt (line 3)) (1.8.0)\n",
      "Requirement already satisfied: hpack<5,>=4.0 in c:\\users\\user\\desktop\\3dsoft2024\\clientes\\scrapping petshot\\scrapping\\scrapping_v1\\lib\\site-packages (from h2>=4.0->selenium-wire->-r requirements.txt (line 1)) (4.0.0)\n",
      "Requirement already satisfied: cryptography<44,>=41.0.5 in c:\\users\\user\\desktop\\3dsoft2024\\clientes\\scrapping petshot\\scrapping\\scrapping_v1\\lib\\site-packages (from pyOpenSSL>=22.0.0->selenium-wire->-r requirements.txt (line 1)) (43.0.1)\n",
      "Requirement already satisfied: attrs>=23.2.0 in c:\\users\\user\\desktop\\3dsoft2024\\clientes\\scrapping petshot\\scrapping\\scrapping_v1\\lib\\site-packages (from trio~=0.17->selenium->-r requirements.txt (line 3)) (24.2.0)\n",
      "Requirement already satisfied: sortedcontainers in c:\\users\\user\\desktop\\3dsoft2024\\clientes\\scrapping petshot\\scrapping\\scrapping_v1\\lib\\site-packages (from trio~=0.17->selenium->-r requirements.txt (line 3)) (2.4.0)\n",
      "Requirement already satisfied: idna in c:\\users\\user\\desktop\\3dsoft2024\\clientes\\scrapping petshot\\scrapping\\scrapping_v1\\lib\\site-packages (from trio~=0.17->selenium->-r requirements.txt (line 3)) (3.10)\n",
      "Requirement already satisfied: outcome in c:\\users\\user\\desktop\\3dsoft2024\\clientes\\scrapping petshot\\scrapping\\scrapping_v1\\lib\\site-packages (from trio~=0.17->selenium->-r requirements.txt (line 3)) (1.3.0.post0)\n",
      "Requirement already satisfied: sniffio>=1.3.0 in c:\\users\\user\\desktop\\3dsoft2024\\clientes\\scrapping petshot\\scrapping\\scrapping_v1\\lib\\site-packages (from trio~=0.17->selenium->-r requirements.txt (line 3)) (1.3.1)\n",
      "Requirement already satisfied: cffi>=1.14 in c:\\users\\user\\desktop\\3dsoft2024\\clientes\\scrapping petshot\\scrapping\\scrapping_v1\\lib\\site-packages (from trio~=0.17->selenium->-r requirements.txt (line 3)) (1.17.1)\n",
      "Requirement already satisfied: h11<1,>=0.9.0 in c:\\users\\user\\desktop\\3dsoft2024\\clientes\\scrapping petshot\\scrapping\\scrapping_v1\\lib\\site-packages (from wsproto>=0.14->selenium-wire->-r requirements.txt (line 1)) (0.14.0)\n",
      "Requirement already satisfied: pycparser in c:\\users\\user\\desktop\\3dsoft2024\\clientes\\scrapping petshot\\scrapping\\scrapping_v1\\lib\\site-packages (from cffi>=1.14->trio~=0.17->selenium->-r requirements.txt (line 3)) (2.22)\n"
     ]
    }
   ],
   "source": [
    "!pip install -r requirements.txt"
   ]
  },
  {
   "cell_type": "code",
   "execution_count": 2,
   "id": "6881d8a1-415f-455e-886e-40d7b43e884e",
   "metadata": {},
   "outputs": [],
   "source": [
    "from seleniumwire import webdriver\n",
    "from selenium.webdriver.common.by import By\n",
    "from selenium.webdriver.chrome.service import Service\n",
    "from selenium.webdriver.chrome.options import Options\n",
    "import json\n",
    "from selenium.webdriver.common.keys import Keys\n",
    "from selenium.webdriver.common.action_chains import ActionChains\n",
    "from selenium.webdriver.support.ui import WebDriverWait\n",
    "from selenium.webdriver.support import expected_conditions as EC\n",
    "from seleniumwire.utils import decode"
   ]
  },
  {
   "cell_type": "code",
   "execution_count": 3,
   "id": "74fdb554-363b-465f-b5db-34d6c560fcc7",
   "metadata": {},
   "outputs": [],
   "source": [
    "#Variables\n",
    "website = 'https://jardinzoo.cl/aves-168'\n",
    "fileName = 'birdsProducts'\n",
    "folder = 'jardinzoo'"
   ]
  },
  {
   "cell_type": "code",
   "execution_count": 4,
   "id": "ce7a87ac-805f-450d-8cf9-bf9348115615",
   "metadata": {},
   "outputs": [],
   "source": [
    "chrome_options = Options()\n",
    "chrome_options.set_capability('goog:loggingPrefs', {'performance': 'ALL'})\n",
    "chrome_options.add_argument('--auto-open-devtools-for-tabs')\n",
    "chrome_options.add_argument('--no-sandbox')\n",
    "chrome_options.add_argument('--disable-dev-shm-usage')\n",
    "chrome_options.add_argument('--disable_encoding')\n",
    "\n",
    "driver = webdriver.Chrome(options=chrome_options)\n",
    "\n",
    "driver.execute_cdp_cmd(\"Network.enable\", {})\n",
    "\n",
    "driver.get(website)\n",
    "\n",
    "wait = WebDriverWait(driver, 30)"
   ]
  },
  {
   "cell_type": "code",
   "execution_count": 5,
   "id": "901bbde2-efe7-44bb-bc83-172e18df9b15",
   "metadata": {},
   "outputs": [],
   "source": [
    "#Products\n",
    "products = []"
   ]
  },
  {
   "cell_type": "code",
   "execution_count": 6,
   "id": "0bd0edc6-a76d-4f45-abd9-a76e08c7eb82",
   "metadata": {},
   "outputs": [
    {
     "name": "stdout",
     "output_type": "stream",
     "text": [
      "Error inesperado: Message: \n",
      "Stacktrace:\n",
      "\tGetHandleVerifier [0x00007FF620C0B095+29557]\n",
      "\t(No symbol) [0x00007FF620B7FA50]\n",
      "\t(No symbol) [0x00007FF620A3B56A]\n",
      "\t(No symbol) [0x00007FF620A8F695]\n",
      "\t(No symbol) [0x00007FF620A8F8EC]\n",
      "\t(No symbol) [0x00007FF620ADB777]\n",
      "\t(No symbol) [0x00007FF620AB71CF]\n",
      "\t(No symbol) [0x00007FF620AD851C]\n",
      "\t(No symbol) [0x00007FF620AB6F33]\n",
      "\t(No symbol) [0x00007FF620A8116F]\n",
      "\t(No symbol) [0x00007FF620A822D1]\n",
      "\tGetHandleVerifier [0x00007FF620F3C96D+3378253]\n",
      "\tGetHandleVerifier [0x00007FF620F88497+3688311]\n",
      "\tGetHandleVerifier [0x00007FF620F7D1CB+3642539]\n",
      "\tGetHandleVerifier [0x00007FF620CCA6B6+813462]\n",
      "\t(No symbol) [0x00007FF620B8AB5F]\n",
      "\t(No symbol) [0x00007FF620B86B74]\n",
      "\t(No symbol) [0x00007FF620B86D10]\n",
      "\t(No symbol) [0x00007FF620B75C1F]\n",
      "\tBaseThreadInitThunk [0x00007FF9D0D2257D+29]\n",
      "\tRtlUserThreadStart [0x00007FF9D2D2AF28+40]\n",
      "\n"
     ]
    }
   ],
   "source": [
    "from selenium.common.exceptions import NoSuchElementException, StaleElementReferenceException\n",
    "import time\n",
    "import random\n",
    "\n",
    "def scan_products():\n",
    "    wait.until(EC.presence_of_all_elements_located((By.CSS_SELECTOR, 'article')))\n",
    "    items = driver.find_elements(By.CSS_SELECTOR, 'article')\n",
    "    \n",
    "    for item in items:\n",
    "        image_url = item.find_element(By.CSS_SELECTOR, 'img').get_attribute('src')\n",
    "        product_url = item.find_element(By.CSS_SELECTOR, 'a').get_attribute('href')\n",
    "        title = item.find_element(By.CSS_SELECTOR, '.product-title').text\n",
    "        price = item.find_element(By.CSS_SELECTOR, '.price').text\n",
    "        products.append({\n",
    "            'image_url': image_url,\n",
    "            'product_url': product_url,\n",
    "            'title': title,\n",
    "            'price': price,\n",
    "        })\n",
    "    \n",
    "def go_to_next_page():\n",
    "    try:\n",
    "        next_button = wait.until(EC.presence_of_element_located((By.CSS_SELECTOR, '.next')))\n",
    "        next_button.click()\n",
    "        wait.until(EC.staleness_of(next_button))\n",
    "        return True\n",
    "    except NoSuchElementException:\n",
    "        print(\"Botón 'next' no encontrado, final de la paginación.\")\n",
    "        return False\n",
    "    except StaleElementReferenceException:\n",
    "        print(\"El botón 'next' ya no es válido en el DOM.\")\n",
    "        return False\n",
    "        \n",
    "flag = True\n",
    "while(flag):\n",
    "    try:\n",
    "        scan_products()\n",
    "        time.sleep(random.uniform(3, 8))\n",
    "        flag = go_to_next_page()\n",
    "    except Exception as e:\n",
    "        print(f\"Error inesperado: {e}\")\n",
    "        flag = False\n",
    "                "
   ]
  },
  {
   "cell_type": "code",
   "execution_count": 7,
   "id": "b19463d8-1cb5-4502-ae82-46259c518b5a",
   "metadata": {},
   "outputs": [
    {
     "name": "stdout",
     "output_type": "stream",
     "text": [
      "[{'image_url': 'https://jardinzoo.cl/3788-home_default/bloque-mineral-naranja.jpg', 'product_url': 'https://jardinzoo.cl/alimentos/98-bloque-mineral-naranja-80605821866.html', 'title': 'BLOQUE MINERAL NARANJA', 'price': '$ 1.800'}, {'image_url': 'https://jardinzoo.cl/10747-home_default/living-world-bloque-mineral-manzana.jpg', 'product_url': 'https://jardinzoo.cl/alimentos/3376-living-world-bloque-mineral-manzana-80605821859.html', 'title': 'LIVING WORLD BLOQUE MINERAL MANZANA', 'price': '$ 1.800'}, {'image_url': 'https://jardinzoo.cl/7720-home_default/mazuri-small-bird-diet-113-kg.jpg', 'product_url': 'https://jardinzoo.cl/alimentos/4767-mazuri-small-bird-diet-113-kg-742832770637.html', 'title': 'MAZURI SMALL BIRD DIET 1.13 KG', 'price': '$ 16.050'}, {'image_url': 'https://jardinzoo.cl/919-home_default/living-world-banera.jpg', 'product_url': 'https://jardinzoo.cl/accesorios/855-living-world-banera-80605818002.html', 'title': 'LIVING WORLD BAÑERA', 'price': '$ 3.300'}, {'image_url': 'https://jardinzoo.cl/1065-home_default/living-world-hueso-de-jibia.jpg', 'product_url': 'https://jardinzoo.cl/accesorios/980-living-world-hueso-de-jibia-80605821729.html', 'title': 'LIVING WORLD HUESO DE JIBIA', 'price': '$ 6.100'}]\n",
      "5\n"
     ]
    }
   ],
   "source": [
    "print(products)\n",
    "print(len(products))"
   ]
  },
  {
   "cell_type": "code",
   "execution_count": 8,
   "id": "6da18b72-16c2-4849-9f2e-07c4f8eb6b15",
   "metadata": {},
   "outputs": [
    {
     "name": "stdout",
     "output_type": "stream",
     "text": [
      "El elemento BLOQUE MINERAL NARANJA '.product-manufacturer' no se encuentra en esta página\n",
      "El elemento LIVING WORLD BLOQUE MINERAL MANZANA '.product-manufacturer' no se encuentra en esta página\n"
     ]
    }
   ],
   "source": [
    "def go_to_product(product):\n",
    "    wait = WebDriverWait(driver, 30)\n",
    "    driver.get(product['product_url'])\n",
    "    try:\n",
    "        product_reference = wait.until(EC.presence_of_element_located((By.CSS_SELECTOR, '.product-reference')))\n",
    "        product['ean'] = product_reference.find_element(By.CSS_SELECTOR, 'span').text\n",
    "    except NoSuchElementException:\n",
    "        print(f\"El elemento {product['title']} '.product-reference' no se encuentra en esta página\")\n",
    "        product['ean'] = ''\n",
    "\n",
    "    try:\n",
    "        product['brand'] = driver.find_element(By.CSS_SELECTOR, '.product-manufacturer').find_element(By.CSS_SELECTOR, 'a').text\n",
    "    except NoSuchElementException:\n",
    "        print(f\"El elemento {product['title']} '.product-manufacturer' no se encuentra en esta página\")\n",
    "        product['brand'] = ''\n",
    "        \n",
    "    product['price'] = driver.find_element(By.CSS_SELECTOR, '.current-price').find_element(By.CSS_SELECTOR, 'span').get_attribute('content')\n",
    "    product['currency'] = 'CLP'\n",
    "\n",
    "for product in products:\n",
    "    try:\n",
    "        go_to_product(product)\n",
    "    except Exception as e:\n",
    "        print(f\"Error inesperado producto {product['title']}: {e}\")\n",
    "    "
   ]
  },
  {
   "cell_type": "code",
   "execution_count": 9,
   "id": "2724ba7c-87d2-46b0-be03-97c1fab4f25c",
   "metadata": {},
   "outputs": [
    {
     "name": "stdout",
     "output_type": "stream",
     "text": [
      "[{'image_url': 'https://jardinzoo.cl/3788-home_default/bloque-mineral-naranja.jpg', 'product_url': 'https://jardinzoo.cl/alimentos/98-bloque-mineral-naranja-80605821866.html', 'title': 'BLOQUE MINERAL NARANJA', 'price': '1800', 'ean': '080605821866', 'brand': '', 'currency': 'CLP'}, {'image_url': 'https://jardinzoo.cl/10747-home_default/living-world-bloque-mineral-manzana.jpg', 'product_url': 'https://jardinzoo.cl/alimentos/3376-living-world-bloque-mineral-manzana-80605821859.html', 'title': 'LIVING WORLD BLOQUE MINERAL MANZANA', 'price': '1800', 'ean': '', 'brand': '', 'currency': 'CLP'}, {'image_url': 'https://jardinzoo.cl/7720-home_default/mazuri-small-bird-diet-113-kg.jpg', 'product_url': 'https://jardinzoo.cl/alimentos/4767-mazuri-small-bird-diet-113-kg-742832770637.html', 'title': 'MAZURI SMALL BIRD DIET 1.13 KG', 'price': '16050', 'ean': '727613010935', 'brand': 'MAZURI', 'currency': 'CLP'}, {'image_url': 'https://jardinzoo.cl/919-home_default/living-world-banera.jpg', 'product_url': 'https://jardinzoo.cl/accesorios/855-living-world-banera-80605818002.html', 'title': 'LIVING WORLD BAÑERA', 'price': '3300', 'ean': '080605818002', 'brand': 'LIVING WORLD', 'currency': 'CLP'}, {'image_url': 'https://jardinzoo.cl/1065-home_default/living-world-hueso-de-jibia.jpg', 'product_url': 'https://jardinzoo.cl/accesorios/980-living-world-hueso-de-jibia-80605821729.html', 'title': 'LIVING WORLD HUESO DE JIBIA', 'price': '6100', 'ean': '080605821729', 'brand': 'LIVING WORLD', 'currency': 'CLP'}]\n"
     ]
    }
   ],
   "source": [
    "print(products)"
   ]
  },
  {
   "cell_type": "code",
   "execution_count": 10,
   "id": "465784cf-6fa5-48bb-af5d-f3981a7dff77",
   "metadata": {},
   "outputs": [
    {
     "name": "stdout",
     "output_type": "stream",
     "text": [
      "Archivo JSON generado correctamente.\n"
     ]
    }
   ],
   "source": [
    "with open(f\"{folder}/{fileName}.json\", 'w', encoding='utf-8') as json_file:\n",
    "    json.dump(products, json_file, ensure_ascii=False, indent=4)\n",
    "\n",
    "print(\"Archivo JSON generado correctamente.\")"
   ]
  },
  {
   "cell_type": "code",
   "execution_count": 11,
   "id": "96d36483-053c-47a6-bf98-923fccaea2ea",
   "metadata": {},
   "outputs": [],
   "source": [
    "driver.quit()"
   ]
  }
 ],
 "metadata": {
  "kernelspec": {
   "display_name": "Python 3 (ipykernel)",
   "language": "python",
   "name": "python3"
  },
  "language_info": {
   "codemirror_mode": {
    "name": "ipython",
    "version": 3
   },
   "file_extension": ".py",
   "mimetype": "text/x-python",
   "name": "python",
   "nbconvert_exporter": "python",
   "pygments_lexer": "ipython3",
   "version": "3.12.3"
  }
 },
 "nbformat": 4,
 "nbformat_minor": 5
}
